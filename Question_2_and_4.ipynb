{
  "nbformat": 4,
  "nbformat_minor": 0,
  "metadata": {
    "colab": {
      "name": "Question 2 and 4",
      "provenance": [],
      "collapsed_sections": []
    },
    "kernelspec": {
      "display_name": "Python 3",
      "name": "python3"
    }
  },
  "cells": [
    {
      "cell_type": "code",
      "metadata": {
        "id": "UILRkMKEgsrg"
      },
      "source": [
        "df5.to_csv('CLEANED.csv')"
      ],
      "execution_count": null,
      "outputs": []
    },
    {
      "cell_type": "code",
      "metadata": {
        "id": "UR16XIDMOynO"
      },
      "source": [
        "import numpy as np\r\n",
        "import pandas as pd"
      ],
      "execution_count": null,
      "outputs": []
    },
    {
      "cell_type": "code",
      "metadata": {
        "id": "ZmeuQqB4IJEB",
        "colab": {
          "base_uri": "https://localhost:8080/"
        },
        "outputId": "d739f254-5f9c-4b22-8a99-76e00c1e11e1"
      },
      "source": [
        "from google.colab import drive\r\n",
        "drive.mount('/content/drive')"
      ],
      "execution_count": null,
      "outputs": [
        {
          "output_type": "stream",
          "text": [
            "Mounted at /content/drive\n"
          ],
          "name": "stdout"
        }
      ]
    },
    {
      "cell_type": "code",
      "metadata": {
        "id": "acJ3webUGnzf"
      },
      "source": [
        "path = '/content/drive/MyDrive/Colab Notebooks/FAO/'\r\n",
        "df_cleaned = pd.read_csv(path + 'CLEANED_25Feb.csv', encoding='latin-1', engine='python')"
      ],
      "execution_count": null,
      "outputs": []
    },
    {
      "cell_type": "code",
      "metadata": {
        "colab": {
          "base_uri": "https://localhost:8080/"
        },
        "id": "8MqAHBacHsGt",
        "outputId": "7f8517e8-1e9b-48b3-c403-21db84d2f6c7"
      },
      "source": [
        ""
      ],
      "execution_count": null,
      "outputs": [
        {
          "output_type": "stream",
          "text": [
            "Mounted at /content/drive\n"
          ],
          "name": "stdout"
        }
      ]
    },
    {
      "cell_type": "code",
      "metadata": {
        "colab": {
          "base_uri": "https://localhost:8080/",
          "height": 578
        },
        "id": "rxFXBQhmId4x",
        "outputId": "e4ef604b-a660-47fa-ec6d-74312b791cde"
      },
      "source": [
        "df_cleaned"
      ],
      "execution_count": null,
      "outputs": [
        {
          "output_type": "execute_result",
          "data": {
            "text/html": [
              "<div>\n",
              "<style scoped>\n",
              "    .dataframe tbody tr th:only-of-type {\n",
              "        vertical-align: middle;\n",
              "    }\n",
              "\n",
              "    .dataframe tbody tr th {\n",
              "        vertical-align: top;\n",
              "    }\n",
              "\n",
              "    .dataframe thead th {\n",
              "        text-align: right;\n",
              "    }\n",
              "</style>\n",
              "<table border=\"1\" class=\"dataframe\">\n",
              "  <thead>\n",
              "    <tr style=\"text-align: right;\">\n",
              "      <th></th>\n",
              "      <th>Unnamed: 0</th>\n",
              "      <th>Area Code</th>\n",
              "      <th>Area</th>\n",
              "      <th>Item Code</th>\n",
              "      <th>Item</th>\n",
              "      <th>Element Code</th>\n",
              "      <th>Element</th>\n",
              "      <th>Unit</th>\n",
              "      <th>Y1992</th>\n",
              "      <th>Y1993</th>\n",
              "      <th>Y1994</th>\n",
              "      <th>Y1995</th>\n",
              "      <th>Y1996</th>\n",
              "      <th>Y1997</th>\n",
              "      <th>Y1998</th>\n",
              "      <th>Y1999</th>\n",
              "      <th>Y2000</th>\n",
              "      <th>Y2001</th>\n",
              "      <th>Y2002</th>\n",
              "      <th>Y2003</th>\n",
              "      <th>Y2004</th>\n",
              "      <th>Y2005</th>\n",
              "      <th>Y2006</th>\n",
              "      <th>Y2007</th>\n",
              "      <th>Y2008</th>\n",
              "      <th>Y2009</th>\n",
              "      <th>Y2010</th>\n",
              "      <th>Y2011</th>\n",
              "      <th>Y2012</th>\n",
              "      <th>Y2013</th>\n",
              "      <th>Y2014</th>\n",
              "      <th>Y2015</th>\n",
              "      <th>Y2016</th>\n",
              "      <th>Y2017</th>\n",
              "      <th>Y2018</th>\n",
              "    </tr>\n",
              "  </thead>\n",
              "  <tbody>\n",
              "    <tr>\n",
              "      <th>0</th>\n",
              "      <td>164</td>\n",
              "      <td>3</td>\n",
              "      <td>Albania</td>\n",
              "      <td>358</td>\n",
              "      <td>Cabbages and other brassicas</td>\n",
              "      <td>5312</td>\n",
              "      <td>Area harvested</td>\n",
              "      <td>ha</td>\n",
              "      <td>1850.0</td>\n",
              "      <td>2100.0</td>\n",
              "      <td>2000.0</td>\n",
              "      <td>1300.0</td>\n",
              "      <td>1300.0</td>\n",
              "      <td>1300.0</td>\n",
              "      <td>1500.0</td>\n",
              "      <td>1100.0</td>\n",
              "      <td>1300.0</td>\n",
              "      <td>1000.0</td>\n",
              "      <td>1200.0</td>\n",
              "      <td>1700.0</td>\n",
              "      <td>1600.0</td>\n",
              "      <td>1800.0</td>\n",
              "      <td>1574.0</td>\n",
              "      <td>1050.0</td>\n",
              "      <td>1012.0</td>\n",
              "      <td>677.0</td>\n",
              "      <td>1653.0</td>\n",
              "      <td>1800.0</td>\n",
              "      <td>1900.0</td>\n",
              "      <td>2421.0</td>\n",
              "      <td>1457.0</td>\n",
              "      <td>1455.0</td>\n",
              "      <td>1846.0</td>\n",
              "      <td>1813.0</td>\n",
              "      <td>1733.0</td>\n",
              "    </tr>\n",
              "    <tr>\n",
              "      <th>1</th>\n",
              "      <td>165</td>\n",
              "      <td>3</td>\n",
              "      <td>Albania</td>\n",
              "      <td>358</td>\n",
              "      <td>Cabbages and other brassicas</td>\n",
              "      <td>5419</td>\n",
              "      <td>Yield</td>\n",
              "      <td>hg/ha</td>\n",
              "      <td>201622.0</td>\n",
              "      <td>209048.0</td>\n",
              "      <td>210500.0</td>\n",
              "      <td>230769.0</td>\n",
              "      <td>223077.0</td>\n",
              "      <td>238462.0</td>\n",
              "      <td>240000.0</td>\n",
              "      <td>250000.0</td>\n",
              "      <td>247692.0</td>\n",
              "      <td>243850.0</td>\n",
              "      <td>245000.0</td>\n",
              "      <td>223529.0</td>\n",
              "      <td>253125.0</td>\n",
              "      <td>227778.0</td>\n",
              "      <td>223183.0</td>\n",
              "      <td>238095.0</td>\n",
              "      <td>300395.0</td>\n",
              "      <td>396204.0</td>\n",
              "      <td>216770.0</td>\n",
              "      <td>252222.0</td>\n",
              "      <td>245263.0</td>\n",
              "      <td>186245.0</td>\n",
              "      <td>237268.0</td>\n",
              "      <td>265201.0</td>\n",
              "      <td>306907.0</td>\n",
              "      <td>290159.0</td>\n",
              "      <td>305003.0</td>\n",
              "    </tr>\n",
              "    <tr>\n",
              "      <th>2</th>\n",
              "      <td>166</td>\n",
              "      <td>3</td>\n",
              "      <td>Albania</td>\n",
              "      <td>358</td>\n",
              "      <td>Cabbages and other brassicas</td>\n",
              "      <td>5510</td>\n",
              "      <td>Production</td>\n",
              "      <td>tonnes</td>\n",
              "      <td>37300.0</td>\n",
              "      <td>43900.0</td>\n",
              "      <td>42100.0</td>\n",
              "      <td>30000.0</td>\n",
              "      <td>29000.0</td>\n",
              "      <td>31000.0</td>\n",
              "      <td>36000.0</td>\n",
              "      <td>27500.0</td>\n",
              "      <td>32200.0</td>\n",
              "      <td>24385.0</td>\n",
              "      <td>29400.0</td>\n",
              "      <td>38000.0</td>\n",
              "      <td>40500.0</td>\n",
              "      <td>41000.0</td>\n",
              "      <td>35129.0</td>\n",
              "      <td>25000.0</td>\n",
              "      <td>30400.0</td>\n",
              "      <td>26823.0</td>\n",
              "      <td>35832.0</td>\n",
              "      <td>45400.0</td>\n",
              "      <td>46600.0</td>\n",
              "      <td>45090.0</td>\n",
              "      <td>34570.0</td>\n",
              "      <td>38589.0</td>\n",
              "      <td>56655.0</td>\n",
              "      <td>52600.0</td>\n",
              "      <td>52857.0</td>\n",
              "    </tr>\n",
              "    <tr>\n",
              "      <th>3</th>\n",
              "      <td>264</td>\n",
              "      <td>3</td>\n",
              "      <td>Albania</td>\n",
              "      <td>116</td>\n",
              "      <td>Potatoes</td>\n",
              "      <td>5312</td>\n",
              "      <td>Area harvested</td>\n",
              "      <td>ha</td>\n",
              "      <td>9470.0</td>\n",
              "      <td>10313.0</td>\n",
              "      <td>10923.0</td>\n",
              "      <td>12029.0</td>\n",
              "      <td>12398.0</td>\n",
              "      <td>11534.0</td>\n",
              "      <td>11398.0</td>\n",
              "      <td>11400.0</td>\n",
              "      <td>11400.0</td>\n",
              "      <td>11000.0</td>\n",
              "      <td>10600.0</td>\n",
              "      <td>10456.0</td>\n",
              "      <td>10700.0</td>\n",
              "      <td>10134.0</td>\n",
              "      <td>9523.0</td>\n",
              "      <td>8200.0</td>\n",
              "      <td>9800.0</td>\n",
              "      <td>9100.0</td>\n",
              "      <td>9000.0</td>\n",
              "      <td>9500.0</td>\n",
              "      <td>9300.0</td>\n",
              "      <td>9100.0</td>\n",
              "      <td>9600.0</td>\n",
              "      <td>10100.0</td>\n",
              "      <td>9693.0</td>\n",
              "      <td>9948.0</td>\n",
              "      <td>9726.0</td>\n",
              "    </tr>\n",
              "    <tr>\n",
              "      <th>4</th>\n",
              "      <td>265</td>\n",
              "      <td>3</td>\n",
              "      <td>Albania</td>\n",
              "      <td>116</td>\n",
              "      <td>Potatoes</td>\n",
              "      <td>5419</td>\n",
              "      <td>Yield</td>\n",
              "      <td>hg/ha</td>\n",
              "      <td>82920.0</td>\n",
              "      <td>98446.0</td>\n",
              "      <td>81404.0</td>\n",
              "      <td>111323.0</td>\n",
              "      <td>106138.0</td>\n",
              "      <td>109874.0</td>\n",
              "      <td>127212.0</td>\n",
              "      <td>142018.0</td>\n",
              "      <td>141228.0</td>\n",
              "      <td>148818.0</td>\n",
              "      <td>153868.0</td>\n",
              "      <td>151301.0</td>\n",
              "      <td>149346.0</td>\n",
              "      <td>167061.0</td>\n",
              "      <td>170745.0</td>\n",
              "      <td>188902.0</td>\n",
              "      <td>193878.0</td>\n",
              "      <td>219780.0</td>\n",
              "      <td>231111.0</td>\n",
              "      <td>242211.0</td>\n",
              "      <td>250538.0</td>\n",
              "      <td>260110.0</td>\n",
              "      <td>250000.0</td>\n",
              "      <td>242574.0</td>\n",
              "      <td>245894.0</td>\n",
              "      <td>251110.0</td>\n",
              "      <td>261714.0</td>\n",
              "    </tr>\n",
              "    <tr>\n",
              "      <th>...</th>\n",
              "      <td>...</td>\n",
              "      <td>...</td>\n",
              "      <td>...</td>\n",
              "      <td>...</td>\n",
              "      <td>...</td>\n",
              "      <td>...</td>\n",
              "      <td>...</td>\n",
              "      <td>...</td>\n",
              "      <td>...</td>\n",
              "      <td>...</td>\n",
              "      <td>...</td>\n",
              "      <td>...</td>\n",
              "      <td>...</td>\n",
              "      <td>...</td>\n",
              "      <td>...</td>\n",
              "      <td>...</td>\n",
              "      <td>...</td>\n",
              "      <td>...</td>\n",
              "      <td>...</td>\n",
              "      <td>...</td>\n",
              "      <td>...</td>\n",
              "      <td>...</td>\n",
              "      <td>...</td>\n",
              "      <td>...</td>\n",
              "      <td>...</td>\n",
              "      <td>...</td>\n",
              "      <td>...</td>\n",
              "      <td>...</td>\n",
              "      <td>...</td>\n",
              "      <td>...</td>\n",
              "      <td>...</td>\n",
              "      <td>...</td>\n",
              "      <td>...</td>\n",
              "      <td>...</td>\n",
              "      <td>...</td>\n",
              "    </tr>\n",
              "    <tr>\n",
              "      <th>1894</th>\n",
              "      <td>37742</td>\n",
              "      <td>181</td>\n",
              "      <td>Zimbabwe</td>\n",
              "      <td>388</td>\n",
              "      <td>Tomatoes</td>\n",
              "      <td>5419</td>\n",
              "      <td>Yield</td>\n",
              "      <td>hg/ha</td>\n",
              "      <td>60000.0</td>\n",
              "      <td>70588.0</td>\n",
              "      <td>72222.0</td>\n",
              "      <td>69487.0</td>\n",
              "      <td>67520.0</td>\n",
              "      <td>66546.0</td>\n",
              "      <td>61111.0</td>\n",
              "      <td>65960.0</td>\n",
              "      <td>66062.0</td>\n",
              "      <td>66299.0</td>\n",
              "      <td>66535.0</td>\n",
              "      <td>63636.0</td>\n",
              "      <td>66711.0</td>\n",
              "      <td>63830.0</td>\n",
              "      <td>67976.0</td>\n",
              "      <td>68982.0</td>\n",
              "      <td>69953.0</td>\n",
              "      <td>72455.0</td>\n",
              "      <td>78125.0</td>\n",
              "      <td>71524.0</td>\n",
              "      <td>71212.0</td>\n",
              "      <td>71212.0</td>\n",
              "      <td>71737.0</td>\n",
              "      <td>72061.0</td>\n",
              "      <td>72706.0</td>\n",
              "      <td>73075.0</td>\n",
              "      <td>73444.0</td>\n",
              "    </tr>\n",
              "    <tr>\n",
              "      <th>1895</th>\n",
              "      <td>37743</td>\n",
              "      <td>181</td>\n",
              "      <td>Zimbabwe</td>\n",
              "      <td>388</td>\n",
              "      <td>Tomatoes</td>\n",
              "      <td>5510</td>\n",
              "      <td>Production</td>\n",
              "      <td>tonnes</td>\n",
              "      <td>9000.0</td>\n",
              "      <td>12000.0</td>\n",
              "      <td>13000.0</td>\n",
              "      <td>12000.0</td>\n",
              "      <td>13000.0</td>\n",
              "      <td>12000.0</td>\n",
              "      <td>11000.0</td>\n",
              "      <td>12000.0</td>\n",
              "      <td>11000.0</td>\n",
              "      <td>12000.0</td>\n",
              "      <td>13490.0</td>\n",
              "      <td>14000.0</td>\n",
              "      <td>14973.0</td>\n",
              "      <td>15000.0</td>\n",
              "      <td>17246.0</td>\n",
              "      <td>18728.0</td>\n",
              "      <td>20047.0</td>\n",
              "      <td>22461.0</td>\n",
              "      <td>25000.0</td>\n",
              "      <td>22500.0</td>\n",
              "      <td>23500.0</td>\n",
              "      <td>23500.0</td>\n",
              "      <td>24049.0</td>\n",
              "      <td>24831.0</td>\n",
              "      <td>25490.0</td>\n",
              "      <td>26035.0</td>\n",
              "      <td>26580.0</td>\n",
              "    </tr>\n",
              "    <tr>\n",
              "      <th>1896</th>\n",
              "      <td>37751</td>\n",
              "      <td>181</td>\n",
              "      <td>Zimbabwe</td>\n",
              "      <td>15</td>\n",
              "      <td>Wheat</td>\n",
              "      <td>5312</td>\n",
              "      <td>Area harvested</td>\n",
              "      <td>ha</td>\n",
              "      <td>11200.0</td>\n",
              "      <td>48000.0</td>\n",
              "      <td>52700.0</td>\n",
              "      <td>13900.0</td>\n",
              "      <td>47843.0</td>\n",
              "      <td>45495.0</td>\n",
              "      <td>44022.0</td>\n",
              "      <td>47438.0</td>\n",
              "      <td>42551.0</td>\n",
              "      <td>37269.0</td>\n",
              "      <td>39000.0</td>\n",
              "      <td>40809.0</td>\n",
              "      <td>70585.0</td>\n",
              "      <td>65454.0</td>\n",
              "      <td>67201.0</td>\n",
              "      <td>49707.0</td>\n",
              "      <td>10300.0</td>\n",
              "      <td>4000.0</td>\n",
              "      <td>6478.0</td>\n",
              "      <td>8645.0</td>\n",
              "      <td>21377.0</td>\n",
              "      <td>21753.0</td>\n",
              "      <td>9086.0</td>\n",
              "      <td>22114.0</td>\n",
              "      <td>22094.0</td>\n",
              "      <td>22070.0</td>\n",
              "      <td>20734.0</td>\n",
              "    </tr>\n",
              "    <tr>\n",
              "      <th>1897</th>\n",
              "      <td>37752</td>\n",
              "      <td>181</td>\n",
              "      <td>Zimbabwe</td>\n",
              "      <td>15</td>\n",
              "      <td>Wheat</td>\n",
              "      <td>5419</td>\n",
              "      <td>Yield</td>\n",
              "      <td>hg/ha</td>\n",
              "      <td>50893.0</td>\n",
              "      <td>57708.0</td>\n",
              "      <td>54649.0</td>\n",
              "      <td>50360.0</td>\n",
              "      <td>54999.0</td>\n",
              "      <td>56000.0</td>\n",
              "      <td>55000.0</td>\n",
              "      <td>55000.0</td>\n",
              "      <td>54000.0</td>\n",
              "      <td>53000.0</td>\n",
              "      <td>50000.0</td>\n",
              "      <td>30000.0</td>\n",
              "      <td>35000.0</td>\n",
              "      <td>35000.0</td>\n",
              "      <td>36000.0</td>\n",
              "      <td>29998.0</td>\n",
              "      <td>30097.0</td>\n",
              "      <td>30000.0</td>\n",
              "      <td>27788.0</td>\n",
              "      <td>26604.0</td>\n",
              "      <td>24902.0</td>\n",
              "      <td>23430.0</td>\n",
              "      <td>22094.0</td>\n",
              "      <td>20486.0</td>\n",
              "      <td>19013.0</td>\n",
              "      <td>17542.0</td>\n",
              "      <td>20010.0</td>\n",
              "    </tr>\n",
              "    <tr>\n",
              "      <th>1898</th>\n",
              "      <td>37753</td>\n",
              "      <td>181</td>\n",
              "      <td>Zimbabwe</td>\n",
              "      <td>15</td>\n",
              "      <td>Wheat</td>\n",
              "      <td>5510</td>\n",
              "      <td>Production</td>\n",
              "      <td>tonnes</td>\n",
              "      <td>57000.0</td>\n",
              "      <td>277000.0</td>\n",
              "      <td>288000.0</td>\n",
              "      <td>70000.0</td>\n",
              "      <td>263134.0</td>\n",
              "      <td>254772.0</td>\n",
              "      <td>242121.0</td>\n",
              "      <td>260909.0</td>\n",
              "      <td>229775.0</td>\n",
              "      <td>197526.0</td>\n",
              "      <td>195000.0</td>\n",
              "      <td>122427.0</td>\n",
              "      <td>247048.0</td>\n",
              "      <td>229089.0</td>\n",
              "      <td>241924.0</td>\n",
              "      <td>149110.0</td>\n",
              "      <td>31000.0</td>\n",
              "      <td>12000.0</td>\n",
              "      <td>18000.0</td>\n",
              "      <td>23000.0</td>\n",
              "      <td>53232.0</td>\n",
              "      <td>50966.0</td>\n",
              "      <td>20074.0</td>\n",
              "      <td>45302.0</td>\n",
              "      <td>42008.0</td>\n",
              "      <td>38715.0</td>\n",
              "      <td>41488.0</td>\n",
              "    </tr>\n",
              "  </tbody>\n",
              "</table>\n",
              "<p>1899 rows × 35 columns</p>\n",
              "</div>"
            ],
            "text/plain": [
              "      Unnamed: 0  Area Code      Area  ...     Y2016     Y2017     Y2018\n",
              "0            164          3   Albania  ...    1846.0    1813.0    1733.0\n",
              "1            165          3   Albania  ...  306907.0  290159.0  305003.0\n",
              "2            166          3   Albania  ...   56655.0   52600.0   52857.0\n",
              "3            264          3   Albania  ...    9693.0    9948.0    9726.0\n",
              "4            265          3   Albania  ...  245894.0  251110.0  261714.0\n",
              "...          ...        ...       ...  ...       ...       ...       ...\n",
              "1894       37742        181  Zimbabwe  ...   72706.0   73075.0   73444.0\n",
              "1895       37743        181  Zimbabwe  ...   25490.0   26035.0   26580.0\n",
              "1896       37751        181  Zimbabwe  ...   22094.0   22070.0   20734.0\n",
              "1897       37752        181  Zimbabwe  ...   19013.0   17542.0   20010.0\n",
              "1898       37753        181  Zimbabwe  ...   42008.0   38715.0   41488.0\n",
              "\n",
              "[1899 rows x 35 columns]"
            ]
          },
          "metadata": {
            "tags": []
          },
          "execution_count": 6
        }
      ]
    },
    {
      "cell_type": "code",
      "metadata": {
        "colab": {
          "base_uri": "https://localhost:8080/",
          "height": 493
        },
        "id": "iNcp168NJ8Lz",
        "outputId": "11e28ee2-260c-4ad0-d9d8-da101de4799a"
      },
      "source": [
        "#size_of_row = len(df5.index)\r\n",
        "#size_of_column = len(df5.columns)\r\n",
        "\r\n",
        "#selectedData = df4.iloc[0:size_of_row,7:size_of_column]\r\n",
        "#selectedData_size_of_row = len(selectedData.index)\r\n",
        "#selectedData_size_of_column = len(selectedData.columns)\r\n",
        "#selectedData_mean = selectedData.mean(axis = 1)\r\n",
        "#selectedData_mean = selectedData_mean.round(decimals=1)\r\n",
        "\r\n",
        "\r\n",
        "\r\n",
        "#for idx in range(size_of_row):\r\n",
        " #   selectedData.iloc[idx].fillna(value = selectedData_mean.iloc[idx],inplace = True)\r\n",
        "\r\n",
        "# noNullData = df4\r\n",
        "# noNullData.iloc[0:size_of_row,7:size_of_column] = selectedData\r\n",
        "\r\n",
        "\r\n",
        "# test_gp['ISRAIN'] = test_gp['RAIN'].apply(lambda x: 'True' if x > 0 else 'False')\r\n",
        "\r\n",
        "size_of_row = len(df_cleaned.index)\r\n",
        "size_of_column = len(df_cleaned.columns)\r\n",
        "\r\n",
        "\r\n",
        "selectedData = df_cleaned.iloc[0:size_of_row, 7:size_of_column]\r\n",
        "selectedData_mean = selectedData.mean(axis = 1)\r\n",
        "\r\n",
        "pd_mean = pd.DataFrame(selectedData_mean, columns=['Mean value'])\r\n",
        "pd_mean\r\n",
        "#selectedData['Mean'] = 0\r\n",
        "#for idx in range(size_of_row):\r\n",
        " #   selectedData['Mean'] = selectedData_mean,\r\n",
        "#df_cleaned_with_mean = df_cleaned\r\n",
        "#for idx in range(size_of_row):\r\n",
        "    #df_cleaned_with_data[idx]['Mean'] = pd_mean[idx]['Mean value']\r\n",
        "df_cleaned['Mean value'] = pd_mean['Mean value'].astype(float)\r\n",
        "\r\n",
        "\r\n",
        "\r\n",
        "#test_a = df_cleaned.groupby(['Area'], axis=1)\r\n",
        "#print(test_a)\r\n",
        "\r\n",
        "test_potato = df_cleaned[df_cleaned['Item Code'] == 116]\r\n",
        "\r\n",
        "test_potato\r\n",
        "\r\n",
        "\r\n",
        "#df2['FieldName'] = df2['FieldName'].astype(int)"
      ],
      "execution_count": null,
      "outputs": [
        {
          "output_type": "execute_result",
          "data": {
            "text/html": [
              "<div>\n",
              "<style scoped>\n",
              "    .dataframe tbody tr th:only-of-type {\n",
              "        vertical-align: middle;\n",
              "    }\n",
              "\n",
              "    .dataframe tbody tr th {\n",
              "        vertical-align: top;\n",
              "    }\n",
              "\n",
              "    .dataframe thead th {\n",
              "        text-align: right;\n",
              "    }\n",
              "</style>\n",
              "<table border=\"1\" class=\"dataframe\">\n",
              "  <thead>\n",
              "    <tr style=\"text-align: right;\">\n",
              "      <th></th>\n",
              "      <th>Unnamed: 0</th>\n",
              "      <th>Area Code</th>\n",
              "      <th>Area</th>\n",
              "      <th>Item Code</th>\n",
              "      <th>Item</th>\n",
              "      <th>Element Code</th>\n",
              "      <th>Element</th>\n",
              "      <th>Unit</th>\n",
              "      <th>Y1992</th>\n",
              "      <th>Y1993</th>\n",
              "      <th>Y1994</th>\n",
              "      <th>Y1995</th>\n",
              "      <th>Y1996</th>\n",
              "      <th>Y1997</th>\n",
              "      <th>Y1998</th>\n",
              "      <th>Y1999</th>\n",
              "      <th>Y2000</th>\n",
              "      <th>Y2001</th>\n",
              "      <th>Y2002</th>\n",
              "      <th>Y2003</th>\n",
              "      <th>Y2004</th>\n",
              "      <th>Y2005</th>\n",
              "      <th>Y2006</th>\n",
              "      <th>Y2007</th>\n",
              "      <th>Y2008</th>\n",
              "      <th>Y2009</th>\n",
              "      <th>Y2010</th>\n",
              "      <th>Y2011</th>\n",
              "      <th>Y2012</th>\n",
              "      <th>Y2013</th>\n",
              "      <th>Y2014</th>\n",
              "      <th>Y2015</th>\n",
              "      <th>Y2016</th>\n",
              "      <th>Y2017</th>\n",
              "      <th>Y2018</th>\n",
              "      <th>Mean value</th>\n",
              "    </tr>\n",
              "  </thead>\n",
              "  <tbody>\n",
              "    <tr>\n",
              "      <th>3</th>\n",
              "      <td>264</td>\n",
              "      <td>3</td>\n",
              "      <td>Albania</td>\n",
              "      <td>116</td>\n",
              "      <td>Potatoes</td>\n",
              "      <td>5312</td>\n",
              "      <td>Area harvested</td>\n",
              "      <td>ha</td>\n",
              "      <td>9470.0</td>\n",
              "      <td>10313.0</td>\n",
              "      <td>10923.0</td>\n",
              "      <td>12029.0</td>\n",
              "      <td>12398.0</td>\n",
              "      <td>11534.0</td>\n",
              "      <td>11398.0</td>\n",
              "      <td>11400.0</td>\n",
              "      <td>11400.0</td>\n",
              "      <td>11000.0</td>\n",
              "      <td>10600.0</td>\n",
              "      <td>10456.0</td>\n",
              "      <td>10700.0</td>\n",
              "      <td>10134.0</td>\n",
              "      <td>9523.0</td>\n",
              "      <td>8200.0</td>\n",
              "      <td>9800.0</td>\n",
              "      <td>9100.0</td>\n",
              "      <td>9000.0</td>\n",
              "      <td>9500.0</td>\n",
              "      <td>9300.0</td>\n",
              "      <td>9100.0</td>\n",
              "      <td>9600.0</td>\n",
              "      <td>10100.0</td>\n",
              "      <td>9693.0</td>\n",
              "      <td>9948.0</td>\n",
              "      <td>9726.0</td>\n",
              "      <td>10235.000000</td>\n",
              "    </tr>\n",
              "    <tr>\n",
              "      <th>4</th>\n",
              "      <td>265</td>\n",
              "      <td>3</td>\n",
              "      <td>Albania</td>\n",
              "      <td>116</td>\n",
              "      <td>Potatoes</td>\n",
              "      <td>5419</td>\n",
              "      <td>Yield</td>\n",
              "      <td>hg/ha</td>\n",
              "      <td>82920.0</td>\n",
              "      <td>98446.0</td>\n",
              "      <td>81404.0</td>\n",
              "      <td>111323.0</td>\n",
              "      <td>106138.0</td>\n",
              "      <td>109874.0</td>\n",
              "      <td>127212.0</td>\n",
              "      <td>142018.0</td>\n",
              "      <td>141228.0</td>\n",
              "      <td>148818.0</td>\n",
              "      <td>153868.0</td>\n",
              "      <td>151301.0</td>\n",
              "      <td>149346.0</td>\n",
              "      <td>167061.0</td>\n",
              "      <td>170745.0</td>\n",
              "      <td>188902.0</td>\n",
              "      <td>193878.0</td>\n",
              "      <td>219780.0</td>\n",
              "      <td>231111.0</td>\n",
              "      <td>242211.0</td>\n",
              "      <td>250538.0</td>\n",
              "      <td>260110.0</td>\n",
              "      <td>250000.0</td>\n",
              "      <td>242574.0</td>\n",
              "      <td>245894.0</td>\n",
              "      <td>251110.0</td>\n",
              "      <td>261714.0</td>\n",
              "      <td>177019.407407</td>\n",
              "    </tr>\n",
              "    <tr>\n",
              "      <th>5</th>\n",
              "      <td>266</td>\n",
              "      <td>3</td>\n",
              "      <td>Albania</td>\n",
              "      <td>116</td>\n",
              "      <td>Potatoes</td>\n",
              "      <td>5510</td>\n",
              "      <td>Production</td>\n",
              "      <td>tonnes</td>\n",
              "      <td>78525.0</td>\n",
              "      <td>101527.0</td>\n",
              "      <td>88918.0</td>\n",
              "      <td>133910.0</td>\n",
              "      <td>131590.0</td>\n",
              "      <td>126729.0</td>\n",
              "      <td>144996.0</td>\n",
              "      <td>161900.0</td>\n",
              "      <td>161000.0</td>\n",
              "      <td>163700.0</td>\n",
              "      <td>163100.0</td>\n",
              "      <td>158200.0</td>\n",
              "      <td>159800.0</td>\n",
              "      <td>169300.0</td>\n",
              "      <td>162600.0</td>\n",
              "      <td>154900.0</td>\n",
              "      <td>190000.0</td>\n",
              "      <td>200000.0</td>\n",
              "      <td>208000.0</td>\n",
              "      <td>230100.0</td>\n",
              "      <td>233000.0</td>\n",
              "      <td>236700.0</td>\n",
              "      <td>240000.0</td>\n",
              "      <td>245000.0</td>\n",
              "      <td>238345.0</td>\n",
              "      <td>249804.0</td>\n",
              "      <td>254543.0</td>\n",
              "      <td>177266.185185</td>\n",
              "    </tr>\n",
              "    <tr>\n",
              "      <th>15</th>\n",
              "      <td>494</td>\n",
              "      <td>4</td>\n",
              "      <td>Algeria</td>\n",
              "      <td>116</td>\n",
              "      <td>Potatoes</td>\n",
              "      <td>5312</td>\n",
              "      <td>Area harvested</td>\n",
              "      <td>ha</td>\n",
              "      <td>107260.0</td>\n",
              "      <td>95780.0</td>\n",
              "      <td>75300.0</td>\n",
              "      <td>87740.0</td>\n",
              "      <td>85420.0</td>\n",
              "      <td>67180.0</td>\n",
              "      <td>68640.0</td>\n",
              "      <td>64890.0</td>\n",
              "      <td>72690.0</td>\n",
              "      <td>65790.0</td>\n",
              "      <td>72560.0</td>\n",
              "      <td>88660.0</td>\n",
              "      <td>93144.0</td>\n",
              "      <td>99717.0</td>\n",
              "      <td>98825.0</td>\n",
              "      <td>79339.0</td>\n",
              "      <td>91841.0</td>\n",
              "      <td>105121.0</td>\n",
              "      <td>121996.0</td>\n",
              "      <td>131903.0</td>\n",
              "      <td>138666.0</td>\n",
              "      <td>161156.0</td>\n",
              "      <td>156176.0</td>\n",
              "      <td>153313.0</td>\n",
              "      <td>156308.0</td>\n",
              "      <td>148822.0</td>\n",
              "      <td>149665.0</td>\n",
              "      <td>105107.481481</td>\n",
              "    </tr>\n",
              "    <tr>\n",
              "      <th>16</th>\n",
              "      <td>495</td>\n",
              "      <td>4</td>\n",
              "      <td>Algeria</td>\n",
              "      <td>116</td>\n",
              "      <td>Potatoes</td>\n",
              "      <td>5419</td>\n",
              "      <td>Yield</td>\n",
              "      <td>hg/ha</td>\n",
              "      <td>107917.0</td>\n",
              "      <td>111215.0</td>\n",
              "      <td>95078.0</td>\n",
              "      <td>136768.0</td>\n",
              "      <td>134629.0</td>\n",
              "      <td>141042.0</td>\n",
              "      <td>160256.0</td>\n",
              "      <td>153532.0</td>\n",
              "      <td>166143.0</td>\n",
              "      <td>147018.0</td>\n",
              "      <td>183774.0</td>\n",
              "      <td>212037.0</td>\n",
              "      <td>203585.0</td>\n",
              "      <td>216267.0</td>\n",
              "      <td>220689.0</td>\n",
              "      <td>189927.0</td>\n",
              "      <td>236393.0</td>\n",
              "      <td>250764.0</td>\n",
              "      <td>270526.0</td>\n",
              "      <td>292806.0</td>\n",
              "      <td>304291.0</td>\n",
              "      <td>303218.0</td>\n",
              "      <td>299247.0</td>\n",
              "      <td>296099.0</td>\n",
              "      <td>304506.0</td>\n",
              "      <td>309524.0</td>\n",
              "      <td>310916.0</td>\n",
              "      <td>213265.444444</td>\n",
              "    </tr>\n",
              "    <tr>\n",
              "      <th>...</th>\n",
              "      <td>...</td>\n",
              "      <td>...</td>\n",
              "      <td>...</td>\n",
              "      <td>...</td>\n",
              "      <td>...</td>\n",
              "      <td>...</td>\n",
              "      <td>...</td>\n",
              "      <td>...</td>\n",
              "      <td>...</td>\n",
              "      <td>...</td>\n",
              "      <td>...</td>\n",
              "      <td>...</td>\n",
              "      <td>...</td>\n",
              "      <td>...</td>\n",
              "      <td>...</td>\n",
              "      <td>...</td>\n",
              "      <td>...</td>\n",
              "      <td>...</td>\n",
              "      <td>...</td>\n",
              "      <td>...</td>\n",
              "      <td>...</td>\n",
              "      <td>...</td>\n",
              "      <td>...</td>\n",
              "      <td>...</td>\n",
              "      <td>...</td>\n",
              "      <td>...</td>\n",
              "      <td>...</td>\n",
              "      <td>...</td>\n",
              "      <td>...</td>\n",
              "      <td>...</td>\n",
              "      <td>...</td>\n",
              "      <td>...</td>\n",
              "      <td>...</td>\n",
              "      <td>...</td>\n",
              "      <td>...</td>\n",
              "      <td>...</td>\n",
              "    </tr>\n",
              "    <tr>\n",
              "      <th>1870</th>\n",
              "      <td>37468</td>\n",
              "      <td>251</td>\n",
              "      <td>Zambia</td>\n",
              "      <td>116</td>\n",
              "      <td>Potatoes</td>\n",
              "      <td>5419</td>\n",
              "      <td>Yield</td>\n",
              "      <td>hg/ha</td>\n",
              "      <td>88889.0</td>\n",
              "      <td>90909.0</td>\n",
              "      <td>90000.0</td>\n",
              "      <td>88889.0</td>\n",
              "      <td>90909.0</td>\n",
              "      <td>90000.0</td>\n",
              "      <td>88889.0</td>\n",
              "      <td>90909.0</td>\n",
              "      <td>90909.0</td>\n",
              "      <td>107024.0</td>\n",
              "      <td>117180.0</td>\n",
              "      <td>140000.0</td>\n",
              "      <td>133904.0</td>\n",
              "      <td>144245.0</td>\n",
              "      <td>140000.0</td>\n",
              "      <td>131818.0</td>\n",
              "      <td>101051.0</td>\n",
              "      <td>172628.0</td>\n",
              "      <td>162228.0</td>\n",
              "      <td>162847.0</td>\n",
              "      <td>161166.0</td>\n",
              "      <td>163930.0</td>\n",
              "      <td>164232.0</td>\n",
              "      <td>153365.0</td>\n",
              "      <td>187331.0</td>\n",
              "      <td>316142.0</td>\n",
              "      <td>74883.0</td>\n",
              "      <td>131269.518519</td>\n",
              "    </tr>\n",
              "    <tr>\n",
              "      <th>1871</th>\n",
              "      <td>37469</td>\n",
              "      <td>251</td>\n",
              "      <td>Zambia</td>\n",
              "      <td>116</td>\n",
              "      <td>Potatoes</td>\n",
              "      <td>5510</td>\n",
              "      <td>Production</td>\n",
              "      <td>tonnes</td>\n",
              "      <td>8000.0</td>\n",
              "      <td>10000.0</td>\n",
              "      <td>9000.0</td>\n",
              "      <td>8000.0</td>\n",
              "      <td>10000.0</td>\n",
              "      <td>9000.0</td>\n",
              "      <td>8000.0</td>\n",
              "      <td>10000.0</td>\n",
              "      <td>10000.0</td>\n",
              "      <td>12000.0</td>\n",
              "      <td>13000.0</td>\n",
              "      <td>14000.0</td>\n",
              "      <td>14141.0</td>\n",
              "      <td>14035.0</td>\n",
              "      <td>14000.0</td>\n",
              "      <td>14500.0</td>\n",
              "      <td>10196.0</td>\n",
              "      <td>21285.0</td>\n",
              "      <td>22939.0</td>\n",
              "      <td>25700.0</td>\n",
              "      <td>30000.0</td>\n",
              "      <td>29537.0</td>\n",
              "      <td>28997.0</td>\n",
              "      <td>45902.0</td>\n",
              "      <td>24428.0</td>\n",
              "      <td>31750.0</td>\n",
              "      <td>13546.0</td>\n",
              "      <td>17109.481481</td>\n",
              "    </tr>\n",
              "    <tr>\n",
              "      <th>1887</th>\n",
              "      <td>37691</td>\n",
              "      <td>181</td>\n",
              "      <td>Zimbabwe</td>\n",
              "      <td>116</td>\n",
              "      <td>Potatoes</td>\n",
              "      <td>5312</td>\n",
              "      <td>Area harvested</td>\n",
              "      <td>ha</td>\n",
              "      <td>1600.0</td>\n",
              "      <td>1900.0</td>\n",
              "      <td>1950.0</td>\n",
              "      <td>1900.0</td>\n",
              "      <td>1973.0</td>\n",
              "      <td>1914.0</td>\n",
              "      <td>1900.0</td>\n",
              "      <td>1902.0</td>\n",
              "      <td>2000.0</td>\n",
              "      <td>2100.0</td>\n",
              "      <td>2200.0</td>\n",
              "      <td>2500.0</td>\n",
              "      <td>2726.0</td>\n",
              "      <td>2950.0</td>\n",
              "      <td>3106.0</td>\n",
              "      <td>3212.0</td>\n",
              "      <td>3301.0</td>\n",
              "      <td>3338.0</td>\n",
              "      <td>3474.0</td>\n",
              "      <td>3373.0</td>\n",
              "      <td>3200.0</td>\n",
              "      <td>3500.0</td>\n",
              "      <td>3480.0</td>\n",
              "      <td>3510.0</td>\n",
              "      <td>3502.0</td>\n",
              "      <td>3520.0</td>\n",
              "      <td>3538.0</td>\n",
              "      <td>2724.777778</td>\n",
              "    </tr>\n",
              "    <tr>\n",
              "      <th>1888</th>\n",
              "      <td>37692</td>\n",
              "      <td>181</td>\n",
              "      <td>Zimbabwe</td>\n",
              "      <td>116</td>\n",
              "      <td>Potatoes</td>\n",
              "      <td>5419</td>\n",
              "      <td>Yield</td>\n",
              "      <td>hg/ha</td>\n",
              "      <td>156250.0</td>\n",
              "      <td>157895.0</td>\n",
              "      <td>158974.0</td>\n",
              "      <td>157895.0</td>\n",
              "      <td>157140.0</td>\n",
              "      <td>156772.0</td>\n",
              "      <td>152632.0</td>\n",
              "      <td>157704.0</td>\n",
              "      <td>160000.0</td>\n",
              "      <td>157143.0</td>\n",
              "      <td>159091.0</td>\n",
              "      <td>160000.0</td>\n",
              "      <td>161454.0</td>\n",
              "      <td>162655.0</td>\n",
              "      <td>163782.0</td>\n",
              "      <td>164797.0</td>\n",
              "      <td>165607.0</td>\n",
              "      <td>166349.0</td>\n",
              "      <td>166967.0</td>\n",
              "      <td>167407.0</td>\n",
              "      <td>171875.0</td>\n",
              "      <td>165714.0</td>\n",
              "      <td>167726.0</td>\n",
              "      <td>169360.0</td>\n",
              "      <td>170007.0</td>\n",
              "      <td>170545.0</td>\n",
              "      <td>171083.0</td>\n",
              "      <td>162845.333333</td>\n",
              "    </tr>\n",
              "    <tr>\n",
              "      <th>1889</th>\n",
              "      <td>37693</td>\n",
              "      <td>181</td>\n",
              "      <td>Zimbabwe</td>\n",
              "      <td>116</td>\n",
              "      <td>Potatoes</td>\n",
              "      <td>5510</td>\n",
              "      <td>Production</td>\n",
              "      <td>tonnes</td>\n",
              "      <td>25000.0</td>\n",
              "      <td>30000.0</td>\n",
              "      <td>31000.0</td>\n",
              "      <td>30000.0</td>\n",
              "      <td>31000.0</td>\n",
              "      <td>30000.0</td>\n",
              "      <td>29000.0</td>\n",
              "      <td>30000.0</td>\n",
              "      <td>32000.0</td>\n",
              "      <td>33000.0</td>\n",
              "      <td>35000.0</td>\n",
              "      <td>40000.0</td>\n",
              "      <td>44017.0</td>\n",
              "      <td>47988.0</td>\n",
              "      <td>50867.0</td>\n",
              "      <td>52940.0</td>\n",
              "      <td>54666.0</td>\n",
              "      <td>55526.0</td>\n",
              "      <td>58000.0</td>\n",
              "      <td>56474.0</td>\n",
              "      <td>55000.0</td>\n",
              "      <td>58000.0</td>\n",
              "      <td>58375.0</td>\n",
              "      <td>59447.0</td>\n",
              "      <td>59530.0</td>\n",
              "      <td>60026.0</td>\n",
              "      <td>60521.0</td>\n",
              "      <td>44717.666667</td>\n",
              "    </tr>\n",
              "  </tbody>\n",
              "</table>\n",
              "<p>378 rows × 36 columns</p>\n",
              "</div>"
            ],
            "text/plain": [
              "      Unnamed: 0  Area Code      Area  ...     Y2017     Y2018     Mean value\n",
              "3            264          3   Albania  ...    9948.0    9726.0   10235.000000\n",
              "4            265          3   Albania  ...  251110.0  261714.0  177019.407407\n",
              "5            266          3   Albania  ...  249804.0  254543.0  177266.185185\n",
              "15           494          4   Algeria  ...  148822.0  149665.0  105107.481481\n",
              "16           495          4   Algeria  ...  309524.0  310916.0  213265.444444\n",
              "...          ...        ...       ...  ...       ...       ...            ...\n",
              "1870       37468        251    Zambia  ...  316142.0   74883.0  131269.518519\n",
              "1871       37469        251    Zambia  ...   31750.0   13546.0   17109.481481\n",
              "1887       37691        181  Zimbabwe  ...    3520.0    3538.0    2724.777778\n",
              "1888       37692        181  Zimbabwe  ...  170545.0  171083.0  162845.333333\n",
              "1889       37693        181  Zimbabwe  ...   60026.0   60521.0   44717.666667\n",
              "\n",
              "[378 rows x 36 columns]"
            ]
          },
          "metadata": {
            "tags": []
          },
          "execution_count": 7
        }
      ]
    },
    {
      "cell_type": "code",
      "metadata": {
        "id": "5sY5jODVTN-n"
      },
      "source": [
        "import matplotlib.pyplot as plt \r\n",
        "%matplotlib inline\r\n",
        "import numpy as np \r\n",
        "\r\n",
        "\r\n",
        "\r\n",
        "import seaborn as sns"
      ],
      "execution_count": null,
      "outputs": []
    },
    {
      "cell_type": "code",
      "metadata": {
        "colab": {
          "base_uri": "https://localhost:8080/",
          "height": 578
        },
        "id": "CxaQeAsJEZGd",
        "outputId": "8de989cc-a9cd-4236-ee6d-d58df7db89df"
      },
      "source": [
        "df_cleaned"
      ],
      "execution_count": null,
      "outputs": [
        {
          "output_type": "execute_result",
          "data": {
            "text/html": [
              "<div>\n",
              "<style scoped>\n",
              "    .dataframe tbody tr th:only-of-type {\n",
              "        vertical-align: middle;\n",
              "    }\n",
              "\n",
              "    .dataframe tbody tr th {\n",
              "        vertical-align: top;\n",
              "    }\n",
              "\n",
              "    .dataframe thead th {\n",
              "        text-align: right;\n",
              "    }\n",
              "</style>\n",
              "<table border=\"1\" class=\"dataframe\">\n",
              "  <thead>\n",
              "    <tr style=\"text-align: right;\">\n",
              "      <th></th>\n",
              "      <th>Unnamed: 0</th>\n",
              "      <th>Area Code</th>\n",
              "      <th>Area</th>\n",
              "      <th>Item Code</th>\n",
              "      <th>Item</th>\n",
              "      <th>Element Code</th>\n",
              "      <th>Element</th>\n",
              "      <th>Unit</th>\n",
              "      <th>Y1992</th>\n",
              "      <th>Y1993</th>\n",
              "      <th>Y1994</th>\n",
              "      <th>Y1995</th>\n",
              "      <th>Y1996</th>\n",
              "      <th>Y1997</th>\n",
              "      <th>Y1998</th>\n",
              "      <th>Y1999</th>\n",
              "      <th>Y2000</th>\n",
              "      <th>Y2001</th>\n",
              "      <th>Y2002</th>\n",
              "      <th>Y2003</th>\n",
              "      <th>Y2004</th>\n",
              "      <th>Y2005</th>\n",
              "      <th>Y2006</th>\n",
              "      <th>Y2007</th>\n",
              "      <th>Y2008</th>\n",
              "      <th>Y2009</th>\n",
              "      <th>Y2010</th>\n",
              "      <th>Y2011</th>\n",
              "      <th>Y2012</th>\n",
              "      <th>Y2013</th>\n",
              "      <th>Y2014</th>\n",
              "      <th>Y2015</th>\n",
              "      <th>Y2016</th>\n",
              "      <th>Y2017</th>\n",
              "      <th>Y2018</th>\n",
              "      <th>Mean value</th>\n",
              "    </tr>\n",
              "  </thead>\n",
              "  <tbody>\n",
              "    <tr>\n",
              "      <th>0</th>\n",
              "      <td>164</td>\n",
              "      <td>3</td>\n",
              "      <td>Albania</td>\n",
              "      <td>358</td>\n",
              "      <td>Cabbages and other brassicas</td>\n",
              "      <td>5312</td>\n",
              "      <td>Area harvested</td>\n",
              "      <td>ha</td>\n",
              "      <td>1850.0</td>\n",
              "      <td>2100.0</td>\n",
              "      <td>2000.0</td>\n",
              "      <td>1300.0</td>\n",
              "      <td>1300.0</td>\n",
              "      <td>1300.0</td>\n",
              "      <td>1500.0</td>\n",
              "      <td>1100.0</td>\n",
              "      <td>1300.0</td>\n",
              "      <td>1000.0</td>\n",
              "      <td>1200.0</td>\n",
              "      <td>1700.0</td>\n",
              "      <td>1600.0</td>\n",
              "      <td>1800.0</td>\n",
              "      <td>1574.0</td>\n",
              "      <td>1050.0</td>\n",
              "      <td>1012.0</td>\n",
              "      <td>677.0</td>\n",
              "      <td>1653.0</td>\n",
              "      <td>1800.0</td>\n",
              "      <td>1900.0</td>\n",
              "      <td>2421.0</td>\n",
              "      <td>1457.0</td>\n",
              "      <td>1455.0</td>\n",
              "      <td>1846.0</td>\n",
              "      <td>1813.0</td>\n",
              "      <td>1733.0</td>\n",
              "      <td>1534.851852</td>\n",
              "    </tr>\n",
              "    <tr>\n",
              "      <th>1</th>\n",
              "      <td>165</td>\n",
              "      <td>3</td>\n",
              "      <td>Albania</td>\n",
              "      <td>358</td>\n",
              "      <td>Cabbages and other brassicas</td>\n",
              "      <td>5419</td>\n",
              "      <td>Yield</td>\n",
              "      <td>hg/ha</td>\n",
              "      <td>201622.0</td>\n",
              "      <td>209048.0</td>\n",
              "      <td>210500.0</td>\n",
              "      <td>230769.0</td>\n",
              "      <td>223077.0</td>\n",
              "      <td>238462.0</td>\n",
              "      <td>240000.0</td>\n",
              "      <td>250000.0</td>\n",
              "      <td>247692.0</td>\n",
              "      <td>243850.0</td>\n",
              "      <td>245000.0</td>\n",
              "      <td>223529.0</td>\n",
              "      <td>253125.0</td>\n",
              "      <td>227778.0</td>\n",
              "      <td>223183.0</td>\n",
              "      <td>238095.0</td>\n",
              "      <td>300395.0</td>\n",
              "      <td>396204.0</td>\n",
              "      <td>216770.0</td>\n",
              "      <td>252222.0</td>\n",
              "      <td>245263.0</td>\n",
              "      <td>186245.0</td>\n",
              "      <td>237268.0</td>\n",
              "      <td>265201.0</td>\n",
              "      <td>306907.0</td>\n",
              "      <td>290159.0</td>\n",
              "      <td>305003.0</td>\n",
              "      <td>248421.000000</td>\n",
              "    </tr>\n",
              "    <tr>\n",
              "      <th>2</th>\n",
              "      <td>166</td>\n",
              "      <td>3</td>\n",
              "      <td>Albania</td>\n",
              "      <td>358</td>\n",
              "      <td>Cabbages and other brassicas</td>\n",
              "      <td>5510</td>\n",
              "      <td>Production</td>\n",
              "      <td>tonnes</td>\n",
              "      <td>37300.0</td>\n",
              "      <td>43900.0</td>\n",
              "      <td>42100.0</td>\n",
              "      <td>30000.0</td>\n",
              "      <td>29000.0</td>\n",
              "      <td>31000.0</td>\n",
              "      <td>36000.0</td>\n",
              "      <td>27500.0</td>\n",
              "      <td>32200.0</td>\n",
              "      <td>24385.0</td>\n",
              "      <td>29400.0</td>\n",
              "      <td>38000.0</td>\n",
              "      <td>40500.0</td>\n",
              "      <td>41000.0</td>\n",
              "      <td>35129.0</td>\n",
              "      <td>25000.0</td>\n",
              "      <td>30400.0</td>\n",
              "      <td>26823.0</td>\n",
              "      <td>35832.0</td>\n",
              "      <td>45400.0</td>\n",
              "      <td>46600.0</td>\n",
              "      <td>45090.0</td>\n",
              "      <td>34570.0</td>\n",
              "      <td>38589.0</td>\n",
              "      <td>56655.0</td>\n",
              "      <td>52600.0</td>\n",
              "      <td>52857.0</td>\n",
              "      <td>37327.037037</td>\n",
              "    </tr>\n",
              "    <tr>\n",
              "      <th>3</th>\n",
              "      <td>264</td>\n",
              "      <td>3</td>\n",
              "      <td>Albania</td>\n",
              "      <td>116</td>\n",
              "      <td>Potatoes</td>\n",
              "      <td>5312</td>\n",
              "      <td>Area harvested</td>\n",
              "      <td>ha</td>\n",
              "      <td>9470.0</td>\n",
              "      <td>10313.0</td>\n",
              "      <td>10923.0</td>\n",
              "      <td>12029.0</td>\n",
              "      <td>12398.0</td>\n",
              "      <td>11534.0</td>\n",
              "      <td>11398.0</td>\n",
              "      <td>11400.0</td>\n",
              "      <td>11400.0</td>\n",
              "      <td>11000.0</td>\n",
              "      <td>10600.0</td>\n",
              "      <td>10456.0</td>\n",
              "      <td>10700.0</td>\n",
              "      <td>10134.0</td>\n",
              "      <td>9523.0</td>\n",
              "      <td>8200.0</td>\n",
              "      <td>9800.0</td>\n",
              "      <td>9100.0</td>\n",
              "      <td>9000.0</td>\n",
              "      <td>9500.0</td>\n",
              "      <td>9300.0</td>\n",
              "      <td>9100.0</td>\n",
              "      <td>9600.0</td>\n",
              "      <td>10100.0</td>\n",
              "      <td>9693.0</td>\n",
              "      <td>9948.0</td>\n",
              "      <td>9726.0</td>\n",
              "      <td>10235.000000</td>\n",
              "    </tr>\n",
              "    <tr>\n",
              "      <th>4</th>\n",
              "      <td>265</td>\n",
              "      <td>3</td>\n",
              "      <td>Albania</td>\n",
              "      <td>116</td>\n",
              "      <td>Potatoes</td>\n",
              "      <td>5419</td>\n",
              "      <td>Yield</td>\n",
              "      <td>hg/ha</td>\n",
              "      <td>82920.0</td>\n",
              "      <td>98446.0</td>\n",
              "      <td>81404.0</td>\n",
              "      <td>111323.0</td>\n",
              "      <td>106138.0</td>\n",
              "      <td>109874.0</td>\n",
              "      <td>127212.0</td>\n",
              "      <td>142018.0</td>\n",
              "      <td>141228.0</td>\n",
              "      <td>148818.0</td>\n",
              "      <td>153868.0</td>\n",
              "      <td>151301.0</td>\n",
              "      <td>149346.0</td>\n",
              "      <td>167061.0</td>\n",
              "      <td>170745.0</td>\n",
              "      <td>188902.0</td>\n",
              "      <td>193878.0</td>\n",
              "      <td>219780.0</td>\n",
              "      <td>231111.0</td>\n",
              "      <td>242211.0</td>\n",
              "      <td>250538.0</td>\n",
              "      <td>260110.0</td>\n",
              "      <td>250000.0</td>\n",
              "      <td>242574.0</td>\n",
              "      <td>245894.0</td>\n",
              "      <td>251110.0</td>\n",
              "      <td>261714.0</td>\n",
              "      <td>177019.407407</td>\n",
              "    </tr>\n",
              "    <tr>\n",
              "      <th>...</th>\n",
              "      <td>...</td>\n",
              "      <td>...</td>\n",
              "      <td>...</td>\n",
              "      <td>...</td>\n",
              "      <td>...</td>\n",
              "      <td>...</td>\n",
              "      <td>...</td>\n",
              "      <td>...</td>\n",
              "      <td>...</td>\n",
              "      <td>...</td>\n",
              "      <td>...</td>\n",
              "      <td>...</td>\n",
              "      <td>...</td>\n",
              "      <td>...</td>\n",
              "      <td>...</td>\n",
              "      <td>...</td>\n",
              "      <td>...</td>\n",
              "      <td>...</td>\n",
              "      <td>...</td>\n",
              "      <td>...</td>\n",
              "      <td>...</td>\n",
              "      <td>...</td>\n",
              "      <td>...</td>\n",
              "      <td>...</td>\n",
              "      <td>...</td>\n",
              "      <td>...</td>\n",
              "      <td>...</td>\n",
              "      <td>...</td>\n",
              "      <td>...</td>\n",
              "      <td>...</td>\n",
              "      <td>...</td>\n",
              "      <td>...</td>\n",
              "      <td>...</td>\n",
              "      <td>...</td>\n",
              "      <td>...</td>\n",
              "      <td>...</td>\n",
              "    </tr>\n",
              "    <tr>\n",
              "      <th>1894</th>\n",
              "      <td>37742</td>\n",
              "      <td>181</td>\n",
              "      <td>Zimbabwe</td>\n",
              "      <td>388</td>\n",
              "      <td>Tomatoes</td>\n",
              "      <td>5419</td>\n",
              "      <td>Yield</td>\n",
              "      <td>hg/ha</td>\n",
              "      <td>60000.0</td>\n",
              "      <td>70588.0</td>\n",
              "      <td>72222.0</td>\n",
              "      <td>69487.0</td>\n",
              "      <td>67520.0</td>\n",
              "      <td>66546.0</td>\n",
              "      <td>61111.0</td>\n",
              "      <td>65960.0</td>\n",
              "      <td>66062.0</td>\n",
              "      <td>66299.0</td>\n",
              "      <td>66535.0</td>\n",
              "      <td>63636.0</td>\n",
              "      <td>66711.0</td>\n",
              "      <td>63830.0</td>\n",
              "      <td>67976.0</td>\n",
              "      <td>68982.0</td>\n",
              "      <td>69953.0</td>\n",
              "      <td>72455.0</td>\n",
              "      <td>78125.0</td>\n",
              "      <td>71524.0</td>\n",
              "      <td>71212.0</td>\n",
              "      <td>71212.0</td>\n",
              "      <td>71737.0</td>\n",
              "      <td>72061.0</td>\n",
              "      <td>72706.0</td>\n",
              "      <td>73075.0</td>\n",
              "      <td>73444.0</td>\n",
              "      <td>68924.777778</td>\n",
              "    </tr>\n",
              "    <tr>\n",
              "      <th>1895</th>\n",
              "      <td>37743</td>\n",
              "      <td>181</td>\n",
              "      <td>Zimbabwe</td>\n",
              "      <td>388</td>\n",
              "      <td>Tomatoes</td>\n",
              "      <td>5510</td>\n",
              "      <td>Production</td>\n",
              "      <td>tonnes</td>\n",
              "      <td>9000.0</td>\n",
              "      <td>12000.0</td>\n",
              "      <td>13000.0</td>\n",
              "      <td>12000.0</td>\n",
              "      <td>13000.0</td>\n",
              "      <td>12000.0</td>\n",
              "      <td>11000.0</td>\n",
              "      <td>12000.0</td>\n",
              "      <td>11000.0</td>\n",
              "      <td>12000.0</td>\n",
              "      <td>13490.0</td>\n",
              "      <td>14000.0</td>\n",
              "      <td>14973.0</td>\n",
              "      <td>15000.0</td>\n",
              "      <td>17246.0</td>\n",
              "      <td>18728.0</td>\n",
              "      <td>20047.0</td>\n",
              "      <td>22461.0</td>\n",
              "      <td>25000.0</td>\n",
              "      <td>22500.0</td>\n",
              "      <td>23500.0</td>\n",
              "      <td>23500.0</td>\n",
              "      <td>24049.0</td>\n",
              "      <td>24831.0</td>\n",
              "      <td>25490.0</td>\n",
              "      <td>26035.0</td>\n",
              "      <td>26580.0</td>\n",
              "      <td>17571.481481</td>\n",
              "    </tr>\n",
              "    <tr>\n",
              "      <th>1896</th>\n",
              "      <td>37751</td>\n",
              "      <td>181</td>\n",
              "      <td>Zimbabwe</td>\n",
              "      <td>15</td>\n",
              "      <td>Wheat</td>\n",
              "      <td>5312</td>\n",
              "      <td>Area harvested</td>\n",
              "      <td>ha</td>\n",
              "      <td>11200.0</td>\n",
              "      <td>48000.0</td>\n",
              "      <td>52700.0</td>\n",
              "      <td>13900.0</td>\n",
              "      <td>47843.0</td>\n",
              "      <td>45495.0</td>\n",
              "      <td>44022.0</td>\n",
              "      <td>47438.0</td>\n",
              "      <td>42551.0</td>\n",
              "      <td>37269.0</td>\n",
              "      <td>39000.0</td>\n",
              "      <td>40809.0</td>\n",
              "      <td>70585.0</td>\n",
              "      <td>65454.0</td>\n",
              "      <td>67201.0</td>\n",
              "      <td>49707.0</td>\n",
              "      <td>10300.0</td>\n",
              "      <td>4000.0</td>\n",
              "      <td>6478.0</td>\n",
              "      <td>8645.0</td>\n",
              "      <td>21377.0</td>\n",
              "      <td>21753.0</td>\n",
              "      <td>9086.0</td>\n",
              "      <td>22114.0</td>\n",
              "      <td>22094.0</td>\n",
              "      <td>22070.0</td>\n",
              "      <td>20734.0</td>\n",
              "      <td>33030.555556</td>\n",
              "    </tr>\n",
              "    <tr>\n",
              "      <th>1897</th>\n",
              "      <td>37752</td>\n",
              "      <td>181</td>\n",
              "      <td>Zimbabwe</td>\n",
              "      <td>15</td>\n",
              "      <td>Wheat</td>\n",
              "      <td>5419</td>\n",
              "      <td>Yield</td>\n",
              "      <td>hg/ha</td>\n",
              "      <td>50893.0</td>\n",
              "      <td>57708.0</td>\n",
              "      <td>54649.0</td>\n",
              "      <td>50360.0</td>\n",
              "      <td>54999.0</td>\n",
              "      <td>56000.0</td>\n",
              "      <td>55000.0</td>\n",
              "      <td>55000.0</td>\n",
              "      <td>54000.0</td>\n",
              "      <td>53000.0</td>\n",
              "      <td>50000.0</td>\n",
              "      <td>30000.0</td>\n",
              "      <td>35000.0</td>\n",
              "      <td>35000.0</td>\n",
              "      <td>36000.0</td>\n",
              "      <td>29998.0</td>\n",
              "      <td>30097.0</td>\n",
              "      <td>30000.0</td>\n",
              "      <td>27788.0</td>\n",
              "      <td>26604.0</td>\n",
              "      <td>24902.0</td>\n",
              "      <td>23430.0</td>\n",
              "      <td>22094.0</td>\n",
              "      <td>20486.0</td>\n",
              "      <td>19013.0</td>\n",
              "      <td>17542.0</td>\n",
              "      <td>20010.0</td>\n",
              "      <td>37761.962963</td>\n",
              "    </tr>\n",
              "    <tr>\n",
              "      <th>1898</th>\n",
              "      <td>37753</td>\n",
              "      <td>181</td>\n",
              "      <td>Zimbabwe</td>\n",
              "      <td>15</td>\n",
              "      <td>Wheat</td>\n",
              "      <td>5510</td>\n",
              "      <td>Production</td>\n",
              "      <td>tonnes</td>\n",
              "      <td>57000.0</td>\n",
              "      <td>277000.0</td>\n",
              "      <td>288000.0</td>\n",
              "      <td>70000.0</td>\n",
              "      <td>263134.0</td>\n",
              "      <td>254772.0</td>\n",
              "      <td>242121.0</td>\n",
              "      <td>260909.0</td>\n",
              "      <td>229775.0</td>\n",
              "      <td>197526.0</td>\n",
              "      <td>195000.0</td>\n",
              "      <td>122427.0</td>\n",
              "      <td>247048.0</td>\n",
              "      <td>229089.0</td>\n",
              "      <td>241924.0</td>\n",
              "      <td>149110.0</td>\n",
              "      <td>31000.0</td>\n",
              "      <td>12000.0</td>\n",
              "      <td>18000.0</td>\n",
              "      <td>23000.0</td>\n",
              "      <td>53232.0</td>\n",
              "      <td>50966.0</td>\n",
              "      <td>20074.0</td>\n",
              "      <td>45302.0</td>\n",
              "      <td>42008.0</td>\n",
              "      <td>38715.0</td>\n",
              "      <td>41488.0</td>\n",
              "      <td>137060.000000</td>\n",
              "    </tr>\n",
              "  </tbody>\n",
              "</table>\n",
              "<p>1899 rows × 36 columns</p>\n",
              "</div>"
            ],
            "text/plain": [
              "      Unnamed: 0  Area Code      Area  ...     Y2017     Y2018     Mean value\n",
              "0            164          3   Albania  ...    1813.0    1733.0    1534.851852\n",
              "1            165          3   Albania  ...  290159.0  305003.0  248421.000000\n",
              "2            166          3   Albania  ...   52600.0   52857.0   37327.037037\n",
              "3            264          3   Albania  ...    9948.0    9726.0   10235.000000\n",
              "4            265          3   Albania  ...  251110.0  261714.0  177019.407407\n",
              "...          ...        ...       ...  ...       ...       ...            ...\n",
              "1894       37742        181  Zimbabwe  ...   73075.0   73444.0   68924.777778\n",
              "1895       37743        181  Zimbabwe  ...   26035.0   26580.0   17571.481481\n",
              "1896       37751        181  Zimbabwe  ...   22070.0   20734.0   33030.555556\n",
              "1897       37752        181  Zimbabwe  ...   17542.0   20010.0   37761.962963\n",
              "1898       37753        181  Zimbabwe  ...   38715.0   41488.0  137060.000000\n",
              "\n",
              "[1899 rows x 36 columns]"
            ]
          },
          "metadata": {
            "tags": []
          },
          "execution_count": 9
        }
      ]
    },
    {
      "cell_type": "code",
      "metadata": {
        "colab": {
          "base_uri": "https://localhost:8080/"
        },
        "id": "fT5jMT83qR9t",
        "outputId": "fba1462b-e9ae-4bb6-d8ed-410eef32e8c1"
      },
      "source": [
        "df_cleaned['Item'].value_counts()"
      ],
      "execution_count": null,
      "outputs": [
        {
          "output_type": "execute_result",
          "data": {
            "text/plain": [
              "Tomatoes                        396\n",
              "Potatoes                        378\n",
              "Cabbages and other brassicas    357\n",
              "Wheat                           312\n",
              "Lettuce and chicory             240\n",
              "Sugar cane                      216\n",
              "Name: Item, dtype: int64"
            ]
          },
          "metadata": {
            "tags": []
          },
          "execution_count": 10
        }
      ]
    },
    {
      "cell_type": "code",
      "metadata": {
        "id": "BC1n1SXfReoF"
      },
      "source": [
        ""
      ],
      "execution_count": null,
      "outputs": []
    },
    {
      "cell_type": "code",
      "metadata": {
        "id": "6VQ4KtJrE8ok"
      },
      "source": [
        "#2. Which countries have a relatively high yield for the crops needed by the fast-food industry? (Descriptive) \r\n",
        "#- For each crop: identify the highest yield in 50 countries, ranking from the highest and pick the top 10 \r\n",
        "\r\n",
        "df_cleaned_yield = df_cleaned[df_cleaned['Element'] == 'Yield']"
      ],
      "execution_count": null,
      "outputs": []
    },
    {
      "cell_type": "code",
      "metadata": {
        "colab": {
          "base_uri": "https://localhost:8080/",
          "height": 286
        },
        "id": "eZeWe6BLq5HW",
        "outputId": "75019e7f-d514-41f3-9dac-bfb1b455433a"
      },
      "source": [
        "# For potatoes\r\n",
        "\r\n",
        "df_potato_yield = df_cleaned_yield[df_cleaned_yield['Item'] == 'Potatoes']\r\n",
        "sns.boxplot(y=\"Mean value\", width=0.15, data=df_potato_yield).set_title(\"LaLaLa\")\r\n",
        "\r\n",
        "\r\n",
        "plt.title('Potato yield in countries')\r\n",
        "#test_potato_with_yield = test_potato[test_potato['Element'] == 'Yield']\r\n",
        "#df_potato_yield_mean = test_potato_with_yield[['Mean value']]\r\n",
        "#sns.boxplot(y=\"Mean value\", width=0.15, data=df_potato_yield_mean)    "
      ],
      "execution_count": null,
      "outputs": [
        {
          "output_type": "execute_result",
          "data": {
            "text/plain": [
              "Text(0.5, 1.0, 'Potato yield in countries')"
            ]
          },
          "metadata": {
            "tags": []
          },
          "execution_count": 53
        },
        {
          "output_type": "display_data",
          "data": {
            "image/png": "[encoded data removed]",
            "text/plain": [
              "<Figure size 432x288 with 1 Axes>"
            ]
          },
          "metadata": {
            "tags": [],
            "needs_background": "light"
          }
        }
      ]
    },
    {
      "cell_type": "code",
      "metadata": {
        "id": "XBzFckFKtJGs"
      },
      "source": [
        "#sns.boxplot(y=\"Mean value\", width=0.15, data=df_potato_yield_top50)    \r\n",
        "\r\n",
        "#plt.hist(df_potato_yield_top50['Mean value'])\r\n",
        "\r\n",
        "\r\n",
        "#plt.hist(cars2[\"horsepower\"])\r\n",
        "\r\n",
        "# set x/y labels and plot title\r\n",
        "#plt.xlabel(\"horsepower\")\r\n",
        "#plt.ylabel(\"count\")\r\n",
        "#plt.title(\"horsepower bins\")\r\n",
        "\r\n",
        "\r\n",
        "# https://pythonspot.com/matplotlib-bar-chart/\r\n",
        "#y_pos = np.arange(len(objects))\r\n",
        "\r\n",
        "#plt.bar(y_pos, performance, align='center', alpha=0.5)\r\n",
        "#plt.xticks(y_pos, objects)\r\n",
        "#plt.ylabel('Usage')\r\n",
        "#plt.title('Programming language usage')\r\n",
        "\r\n",
        "#y_pos = np.arange(len(df_potato_yield_top50['Mean value']))\r\n",
        "#plt.bar(y_pos, df_potato_yield_top50['Mean value'], alpha=0.5)\r\n",
        "#plt.xticks(y_pos, df_potato_yield_top50['Area'])\r\n",
        "#plt.ylabel('Yield')\r\n",
        "#plt.title('Potato yield per country')\r\n",
        "\r\n",
        "# https://www.tutorialspoint.com/matplotlib/matplotlib_bar_plot.htm\r\n",
        "#fig = plt.figure()\r\n",
        "#ax = fig.add_axes([0,0,1,1])\r\n",
        "#langs = ['C', 'C++', 'Java', 'Python', 'PHP']\r\n",
        "#students = [23,17,35,29,12]\r\n",
        "#ax.bar(langs,students)\r\n",
        "#plt.show()\r\n",
        "\r\n",
        "# dfProductionPotatoSplit1.plot(xlabel = 'Area', ylabel = 'Mean Value', kind = 'barh', figsize=(10,10), title = \"Potato Mean Production 1 (2009 - 2018)\")"
      ],
      "execution_count": null,
      "outputs": []
    },
    {
      "cell_type": "code",
      "metadata": {
        "colab": {
          "base_uri": "https://localhost:8080/",
          "height": 705
        },
        "id": "X5Yr73P-sWMk",
        "outputId": "d0b79baf-eafb-455b-83a1-ea8e090056b1"
      },
      "source": [
        "# Potato top 50\r\n",
        "df_potato_yield.sort_values('Mean value', ascending=False, inplace=True)\r\n",
        "\r\n",
        "df_potato_yield_top50 = df_potato_yield[:50]\r\n",
        "df_potato_yield_top50 \r\n",
        "\r\n",
        "\r\n",
        "\r\n",
        "# ==============================================\r\n",
        "fig = plt.figure()\r\n",
        "ax = fig.add_axes([0,0,1,1])\r\n",
        "ax.bar(df_potato_yield_top50['Area'], df_potato_yield_top50['Mean value'])\r\n",
        "#ax.bar(df_potato_yield_top50['Mean value'], df_potato_yield_top50['Area'] )\r\n",
        "plt.title('Potato yield in top 50 countries')\r\n",
        "plt.show()\r\n",
        "# ==============================================\r\n",
        "#df_potato_yield_top50.plot(xlabel = 'Area', ylabel = 'Mean Value', kind = 'barh', figsize=(10,10), title = \"Potato Mean Production 1 (2009 - 2018)\")\r\n",
        "\r\n",
        "df_potato_yield_top50\r\n",
        "# test = q1[['year', 'month', 'day', 'PM10', 'station']]\r\n",
        "df_only_potato_yield_top50 = df_potato_yield_top50[['Area', 'Mean value']]\r\n",
        "#df_only_potato_yield_top50.plot(xlabel = 'Area', ylabel = 'Mean Value', kind = 'barh', figsize=(10,10), title = \"Potato Mean Production 1 (2009 - 2018)\", sort_columns=True)\r\n",
        "\r\n",
        "\r\n",
        "#fig = plt.figure(figsize =(10, 7)) \r\n",
        "  \r\n",
        "# Creating plot \r\n",
        "#plt.boxplot(data) \r\n",
        "# df.boxplot(by ='day', column =['total_bill'], grid = False) \r\n",
        "#df_only_potato_yield_top50.boxplot(column='Mean value')\r\n",
        "\r\n",
        "sns.boxplot(y=\"Mean value\", width=0.15, data=df_only_potato_yield_top50)    \r\n",
        "plt.title('Potato yield in countries')\r\n",
        "# show plot \r\n",
        "#plt.show()"
      ],
      "execution_count": null,
      "outputs": [
        {
          "output_type": "stream",
          "text": [
            "/usr/local/lib/python3.7/dist-packages/ipykernel_launcher.py:2: SettingWithCopyWarning: \n",
            "A value is trying to be set on a copy of a slice from a DataFrame\n",
            "\n",
            "See the caveats in the documentation: https://pandas.pydata.org/pandas-docs/stable/user_guide/indexing.html#returning-a-view-versus-a-copy\n",
            "  \n"
          ],
          "name": "stderr"
        },
        {
          "output_type": "display_data",
          "data": {
            "image/png": "[encoded data removed]",
            "text/plain": [
              "<Figure size 432x288 with 1 Axes>"
            ]
          },
          "metadata": {
            "tags": [],
            "needs_background": "light"
          }
        },
        {
          "output_type": "execute_result",
          "data": {
            "text/plain": [
              "Text(0.5, 1.0, 'Potato yield in countries')"
            ]
          },
          "metadata": {
            "tags": []
          },
          "execution_count": 74
        },
        {
          "output_type": "display_data",
          "data": {
            "image/png": "[encoded data removed]",
            "text/plain": [
              "<Figure size 432x288 with 1 Axes>"
            ]
          },
          "metadata": {
            "tags": [],
            "needs_background": "light"
          }
        }
      ]
    },
    {
      "cell_type": "code",
      "metadata": {
        "id": "dp85KS3tNO6f"
      },
      "source": [
        ""
      ],
      "execution_count": null,
      "outputs": []
    },
    {
      "cell_type": "code",
      "metadata": {
        "colab": {
          "base_uri": "https://localhost:8080/"
        },
        "id": "gSNBAZn0x94Z",
        "outputId": "e5607016-72ec-4ccb-bed7-efdaf2e00e40"
      },
      "source": [
        "print(df_potato_yield_top50['Area'])"
      ],
      "execution_count": null,
      "outputs": [
        {
          "output_type": "stream",
          "text": [
            "1213                                          New Zealand\n",
            "1198                                          Netherlands\n",
            "1795                             United States of America\n",
            "1765    United Kingdom of Great Britain and Northern I...\n",
            "607                                                France\n",
            "655                                               Germany\n",
            "1618                                          Switzerland\n",
            "469                                               Denmark\n",
            "961                                                Kuwait\n",
            "67                                              Australia\n",
            "853                                                Israel\n",
            "838                                               Ireland\n",
            "1603                                               Sweden\n",
            "1558                                         South Africa\n",
            "898                                                 Japan\n",
            "85                                                Austria\n",
            "916                                                Jordan\n",
            "1702                                               Turkey\n",
            "37                                              Argentina\n",
            "1294                                                 Oman\n",
            "1576                                                Spain\n",
            "1282                                               Norway\n",
            "805                            Iran (Islamic Republic of)\n",
            "1438                                    Republic of Korea\n",
            "868                                                 Italy\n",
            "709                                             Guatemala\n",
            "532                                                 Egypt\n",
            "1138                                               Mexico\n",
            "592                                               Finland\n",
            "382                                            Costa Rica\n",
            "1156                                              Morocco\n",
            "1000                                              Lebanon\n",
            "1516                                         Saudi Arabia\n",
            "547                                           El Salvador\n",
            "340                             China, Taiwan Province of\n",
            "1753                                 United Arab Emirates\n",
            "424                                                Cyprus\n",
            "760                                               Hungary\n",
            "214                                                Brazil\n",
            "409                                                  Cuba\n",
            "1543                                             Slovenia\n",
            "1123                                            Mauritius\n",
            "277                                                Canada\n",
            "16                                                Algeria\n",
            "670                                                Greece\n",
            "1327                                               Panama\n",
            "1828                                           Uzbekistan\n",
            "1387                                               Poland\n",
            "1096                                                Malta\n",
            "1081                                                 Mali\n",
            "Name: Area, dtype: object\n"
          ],
          "name": "stdout"
        }
      ]
    },
    {
      "cell_type": "code",
      "metadata": {
        "colab": {
          "base_uri": "https://localhost:8080/",
          "height": 284
        },
        "id": "Bikp7CSBrUYx",
        "outputId": "2230c121-7522-4896-80f7-f3bf24af235d"
      },
      "source": [
        "# Wheat\r\n",
        "\r\n",
        "\r\n",
        "df_wheat_yield = df_cleaned_yield[df_cleaned_yield['Item'] == 'Wheat']\r\n",
        "sns.boxplot(y=\"Mean value\", width=0.15, data=df_wheat_yield)\r\n",
        "plt.title('Wheat yield in countries')"
      ],
      "execution_count": null,
      "outputs": [
        {
          "output_type": "execute_result",
          "data": {
            "text/plain": [
              "Text(0.5, 1.0, 'Wheat yield in countries')"
            ]
          },
          "metadata": {
            "tags": []
          },
          "execution_count": 54
        },
        {
          "output_type": "display_data",
          "data": {
            "image/png": "[encoded data removed]",
            "text/plain": [
              "<Figure size 432x288 with 1 Axes>"
            ]
          },
          "metadata": {
            "tags": [],
            "needs_background": "light"
          }
        }
      ]
    },
    {
      "cell_type": "code",
      "metadata": {
        "colab": {
          "base_uri": "https://localhost:8080/",
          "height": 628
        },
        "id": "Nl_moZYlP8Kn",
        "outputId": "bd91cef5-fbb0-4ef8-d0b6-408b3bb845d2"
      },
      "source": [
        "df_wheat_yield.sort_values('Mean value', ascending=True, inplace=True)\r\n",
        "\r\n",
        "df_wheat_yield_top50 = df_wheat_yield[:50]\r\n",
        "df_wheat_yield_top50 \r\n",
        "#\r\n",
        "#fig = plt.figure()\r\n",
        "#ax = fig.add_axes([0,0,1,1])\r\n",
        "fig, ax = plt.subplots()\r\n",
        "ax.bar(df_wheat_yield_top50['Area'], df_wheat_yield_top50['Mean value'])\r\n",
        "plt.show()\r\n",
        "\r\n",
        "plt.barh(df_wheat_yield_top50['Area'], df_wheat_yield_top50['Mean value'],)\r\n",
        "\r\n",
        "#plt.barh(Product,Quantity)\r\n",
        "plt.title('Wheat yield in top 50 countries')\r\n",
        "plt.ylabel('Country')\r\n",
        "plt.xlabel('Mean value')\r\n",
        "plt.show()"
      ],
      "execution_count": null,
      "outputs": [
        {
          "output_type": "stream",
          "text": [
            "/usr/local/lib/python3.7/dist-packages/ipykernel_launcher.py:1: SettingWithCopyWarning: \n",
            "A value is trying to be set on a copy of a slice from a DataFrame\n",
            "\n",
            "See the caveats in the documentation: https://pandas.pydata.org/pandas-docs/stable/user_guide/indexing.html#returning-a-view-versus-a-copy\n",
            "  \"\"\"Entry point for launching an IPython kernel.\n"
          ],
          "name": "stderr"
        },
        {
          "output_type": "display_data",
          "data": {
            "image/png": "[encoded data removed]",
            "text/plain": [
              "<Figure size 432x288 with 1 Axes>"
            ]
          },
          "metadata": {
            "tags": [],
            "needs_background": "light"
          }
        },
        {
          "output_type": "display_data",
          "data": {
            "image/png": "[encoded data removed]",
            "text/plain": [
              "<Figure size 432x288 with 1 Axes>"
            ]
          },
          "metadata": {
            "tags": [],
            "needs_background": "light"
          }
        }
      ]
    },
    {
      "cell_type": "code",
      "metadata": {
        "colab": {
          "base_uri": "https://localhost:8080/",
          "height": 437
        },
        "id": "Zq_5tRFYvYAz",
        "outputId": "d8598a29-5a10-4180-8951-be1e2a5e4653"
      },
      "source": [
        "df_wheat_yield.sort_values('Mean value', ascending=False, inplace=True)\r\n",
        "\r\n",
        "df_wheat_yield_top50 = df_wheat_yield[:50]\r\n",
        "df_wheat_yield_top50 \r\n",
        "\r\n",
        "fig = plt.figure()\r\n",
        "ax = fig.add_axes([0,0,1,1])\r\n",
        "ax.bar(df_wheat_yield_top50['Area'], df_wheat_yield_top50['Mean value'])\r\n",
        "plt.title('Wheat yield in top 50 countries')\r\n",
        "plt.show()"
      ],
      "execution_count": null,
      "outputs": [
        {
          "output_type": "stream",
          "text": [
            "/usr/local/lib/python3.7/dist-packages/ipykernel_launcher.py:1: SettingWithCopyWarning: \n",
            "A value is trying to be set on a copy of a slice from a DataFrame\n",
            "\n",
            "See the caveats in the documentation: https://pandas.pydata.org/pandas-docs/stable/user_guide/indexing.html#returning-a-view-versus-a-copy\n",
            "  \"\"\"Entry point for launching an IPython kernel.\n"
          ],
          "name": "stderr"
        },
        {
          "output_type": "display_data",
          "data": {
            "image/png": "[encoded data removed]",
            "text/plain": [
              "<Figure size 432x288 with 1 Axes>"
            ]
          },
          "metadata": {
            "tags": [],
            "needs_background": "light"
          }
        }
      ]
    },
    {
      "cell_type": "code",
      "metadata": {
        "colab": {
          "base_uri": "https://localhost:8080/"
        },
        "id": "SQ-VGl0bxUhp",
        "outputId": "813fd886-872d-4e8d-8f4a-6e9a31444c8c"
      },
      "source": [
        "print(df_wheat_yield_top50['Area'])"
      ],
      "execution_count": null,
      "outputs": [
        {
          "output_type": "stream",
          "text": [
            "844                                               Ireland\n",
            "1204                                          Netherlands\n",
            "1771    United Kingdom of Great Britain and Northern I...\n",
            "661                                               Germany\n",
            "1219                                          New Zealand\n",
            "475                                               Denmark\n",
            "613                                                France\n",
            "1879                                               Zambia\n",
            "541                                                 Egypt\n",
            "1609                                               Sweden\n",
            "1624                                          Switzerland\n",
            "1180                                              Namibia\n",
            "1522                                         Saudi Arabia\n",
            "91                                                Austria\n",
            "1147                                               Mexico\n",
            "298                                                 Chile\n",
            "403                                               Croatia\n",
            "1549                                             Slovenia\n",
            "334                                       China, mainland\n",
            "316                                                 China\n",
            "1288                                               Norway\n",
            "1102                                                Malta\n",
            "766                                               Hungary\n",
            "1393                                               Poland\n",
            "1897                                             Zimbabwe\n",
            "907                                                 Japan\n",
            "1834                                           Uzbekistan\n",
            "598                                               Finland\n",
            "874                                                 Italy\n",
            "1030                                            Lithuania\n",
            "1444                                    Republic of Korea\n",
            "238                                              Bulgaria\n",
            "211                                Bosnia and Herzegovina\n",
            "10                                                Albania\n",
            "349                             China, Taiwan Province of\n",
            "991                                                Latvia\n",
            "1300                                                 Oman\n",
            "967                                                Kuwait\n",
            "1744                                              Ukraine\n",
            "1486                                              Romania\n",
            "160                                               Belarus\n",
            "1273                                      North Macedonia\n",
            "1804                             United States of America\n",
            "1090                                                 Mali\n",
            "1582                                                Spain\n",
            "784                                                 India\n",
            "1006                                              Lebanon\n",
            "565                                               Estonia\n",
            "1456                                  Republic of Moldova\n",
            "1567                                         South Africa\n",
            "Name: Area, dtype: object\n"
          ],
          "name": "stdout"
        }
      ]
    },
    {
      "cell_type": "code",
      "metadata": {
        "colab": {
          "base_uri": "https://localhost:8080/",
          "height": 284
        },
        "id": "D-OGXDvQwJmx",
        "outputId": "8a0ba038-d7bc-444c-cb4f-ab6e68144352"
      },
      "source": [
        "# Tomatoes\r\n",
        "df_tomatoes_yield = df_cleaned_yield[df_cleaned_yield['Item'] == 'Tomatoes']\r\n",
        "sns.boxplot(y=\"Mean value\", width=0.15, data=df_tomatoes_yield)   \r\n",
        "\r\n",
        "plt.title('Tomatoes yield in countries')"
      ],
      "execution_count": null,
      "outputs": [
        {
          "output_type": "execute_result",
          "data": {
            "text/plain": [
              "Text(0.5, 1.0, 'Tomatoes yield in countries')"
            ]
          },
          "metadata": {
            "tags": []
          },
          "execution_count": 57
        },
        {
          "output_type": "display_data",
          "data": {
            "image/png": "[encoded data removed]",
            "text/plain": [
              "<Figure size 432x288 with 1 Axes>"
            ]
          },
          "metadata": {
            "tags": [],
            "needs_background": "light"
          }
        }
      ]
    },
    {
      "cell_type": "code",
      "metadata": {
        "colab": {
          "base_uri": "https://localhost:8080/",
          "height": 437
        },
        "id": "qQIzo5r_QfaI",
        "outputId": "c3d44474-a2e7-40d1-d852-81a21e297308"
      },
      "source": [
        "df_tomatoes_yield.sort_values('Mean value', ascending=False, inplace=True)\r\n",
        "\r\n",
        "df_tomatoes_yield_top50 = df_tomatoes_yield[:50]\r\n",
        "df_tomatoes_yield_top50 \r\n",
        "\r\n",
        "fig = plt.figure()\r\n",
        "ax = fig.add_axes([0,0,1,1])\r\n",
        "ax.bar(df_tomatoes_yield_top50['Area'], df_tomatoes_yield_top50['Mean value'])\r\n",
        "plt.title('Tomato yield in top 50 countries')\r\n",
        "plt.show()"
      ],
      "execution_count": null,
      "outputs": [
        {
          "output_type": "stream",
          "text": [
            "/usr/local/lib/python3.7/dist-packages/ipykernel_launcher.py:1: SettingWithCopyWarning: \n",
            "A value is trying to be set on a copy of a slice from a DataFrame\n",
            "\n",
            "See the caveats in the documentation: https://pandas.pydata.org/pandas-docs/stable/user_guide/indexing.html#returning-a-view-versus-a-copy\n",
            "  \"\"\"Entry point for launching an IPython kernel.\n"
          ],
          "name": "stderr"
        },
        {
          "output_type": "display_data",
          "data": {
            "image/png": "[encoded data removed]",
            "text/plain": [
              "<Figure size 432x288 with 1 Axes>"
            ]
          },
          "metadata": {
            "tags": [],
            "needs_background": "light"
          }
        }
      ]
    },
    {
      "cell_type": "code",
      "metadata": {
        "colab": {
          "base_uri": "https://localhost:8080/"
        },
        "id": "wpFjuje3xqSW",
        "outputId": "818546dd-4f72-48ab-ce36-4efb8110e81a"
      },
      "source": [
        "print(df_tomatoes_yield_top50['Area'])"
      ],
      "execution_count": null,
      "outputs": [
        {
          "output_type": "stream",
          "text": [
            "1201                                          Netherlands\n",
            "1768    United Kingdom of Great Britain and Northern I...\n",
            "1606                                               Sweden\n",
            "1285                                               Norway\n",
            "472                                               Denmark\n",
            "595                                               Finland\n",
            "841                                               Ireland\n",
            "88                                                Austria\n",
            "658                                               Germany\n",
            "1621                                          Switzerland\n",
            "610                                                France\n",
            "1216                                          New Zealand\n",
            "964                                                Kuwait\n",
            "856                                                Israel\n",
            "427                                                Cyprus\n",
            "1801                             United States of America\n",
            "1408                                             Portugal\n",
            "1579                                                Spain\n",
            "1756                                 United Arab Emirates\n",
            "280                                                Canada\n",
            "295                                                 Chile\n",
            "1003                                              Lebanon\n",
            "1441                                    Republic of Korea\n",
            "1564                                         South Africa\n",
            "1162                                              Morocco\n",
            "904                                                 Japan\n",
            "220                                                Brazil\n",
            "763                                               Hungary\n",
            "73                                              Australia\n",
            "871                                                 Italy\n",
            "1705                                               Turkey\n",
            "919                                                Jordan\n",
            "673                                                Greece\n",
            "1297                                                 Oman\n",
            "1816                                              Uruguay\n",
            "1636                                 Syrian Arab Republic\n",
            "1417                                          Puerto Rico\n",
            "388                                            Costa Rica\n",
            "121                                               Bahrain\n",
            "1390                                               Poland\n",
            "331                                       China, mainland\n",
            "313                                                 China\n",
            "1099                                                Malta\n",
            "1072                                             Malaysia\n",
            "1690                                              Tunisia\n",
            "1471                                             RÃ©union\n",
            "538                                                 Egypt\n",
            "43                                              Argentina\n",
            "55                                                Armenia\n",
            "1342                                             Paraguay\n",
            "Name: Area, dtype: object\n"
          ],
          "name": "stdout"
        }
      ]
    },
    {
      "cell_type": "code",
      "metadata": {
        "colab": {
          "base_uri": "https://localhost:8080/",
          "height": 284
        },
        "id": "NXuYJYH4wZHS",
        "outputId": "206af6c3-0397-4100-bb7d-a31a9cfab453"
      },
      "source": [
        "# Cabbages and other brassicas\r\n",
        "df_cabbage_yield = df_cleaned_yield[df_cleaned_yield['Item'] == 'Cabbages and other brassicas']\r\n",
        "sns.boxplot(y=\"Mean value\", width=0.15, data=df_cabbage_yield)   \r\n",
        "\r\n",
        "plt.title('Cabbage yield in countries')"
      ],
      "execution_count": null,
      "outputs": [
        {
          "output_type": "execute_result",
          "data": {
            "text/plain": [
              "Text(0.5, 1.0, 'Cabbage yield in countries')"
            ]
          },
          "metadata": {
            "tags": []
          },
          "execution_count": 58
        },
        {
          "output_type": "display_data",
          "data": {
            "image/png": "[encoded data removed]",
            "text/plain": [
              "<Figure size 432x288 with 1 Axes>"
            ]
          },
          "metadata": {
            "tags": [],
            "needs_background": "light"
          }
        }
      ]
    },
    {
      "cell_type": "code",
      "metadata": {
        "colab": {
          "base_uri": "https://localhost:8080/",
          "height": 437
        },
        "id": "1UjpCAzJQ4sI",
        "outputId": "27229b4d-6677-4b6f-c406-480399248562"
      },
      "source": [
        "df_cabbage_yield.sort_values('Mean value', ascending=False, inplace=True)\r\n",
        "\r\n",
        "df_cabbage_yield_top50 = df_cabbage_yield[:50]\r\n",
        "df_cabbage_yield_top50 \r\n",
        "\r\n",
        "fig = plt.figure()\r\n",
        "ax = fig.add_axes([0,0,1,1])\r\n",
        "ax.bar(df_cabbage_yield_top50['Area'], df_cabbage_yield_top50['Mean value'])\r\n",
        "\r\n",
        "plt.title('Cabbage yield in top 50 countries')\r\n",
        "plt.show()"
      ],
      "execution_count": null,
      "outputs": [
        {
          "output_type": "stream",
          "text": [
            "/usr/local/lib/python3.7/dist-packages/ipykernel_launcher.py:1: SettingWithCopyWarning: \n",
            "A value is trying to be set on a copy of a slice from a DataFrame\n",
            "\n",
            "See the caveats in the documentation: https://pandas.pydata.org/pandas-docs/stable/user_guide/indexing.html#returning-a-view-versus-a-copy\n",
            "  \"\"\"Entry point for launching an IPython kernel.\n"
          ],
          "name": "stderr"
        },
        {
          "output_type": "display_data",
          "data": {
            "image/png": "[encoded data removed]",
            "text/plain": [
              "<Figure size 432x288 with 1 Axes>"
            ]
          },
          "metadata": {
            "tags": [],
            "needs_background": "light"
          }
        }
      ]
    },
    {
      "cell_type": "code",
      "metadata": {
        "colab": {
          "base_uri": "https://localhost:8080/"
        },
        "id": "K3ahEP7ix2RN",
        "outputId": "bc52e4fb-3d01-4e1b-d3f3-2492abb39686"
      },
      "source": [
        "print(df_cabbage_yield_top50['Area'])"
      ],
      "execution_count": null,
      "outputs": [
        {
          "output_type": "stream",
          "text": [
            "493                     Dominican Republic\n",
            "1432                     Republic of Korea\n",
            "1552                          South Africa\n",
            "649                                Germany\n",
            "79                                 Austria\n",
            "955                                 Kuwait\n",
            "892                                  Japan\n",
            "1207                           New Zealand\n",
            "1597                                Sweden\n",
            "418                                 Cyprus\n",
            "1822                            Uzbekistan\n",
            "1192                           Netherlands\n",
            "1747                  United Arab Emirates\n",
            "994                                Lebanon\n",
            "1381                                Poland\n",
            "799             Iran (Islamic Republic of)\n",
            "910                                 Jordan\n",
            "352                               Colombia\n",
            "463                                Denmark\n",
            "1132                                Mexico\n",
            "1837    Venezuela (Bolivarian Republic of)\n",
            "61                               Australia\n",
            "1789              United States of America\n",
            "832                                Ireland\n",
            "1537                              Slovenia\n",
            "1570                                 Spain\n",
            "319                        China, mainland\n",
            "301                                  China\n",
            "337              China, Taiwan Province of\n",
            "1276                                Norway\n",
            "526                                  Egypt\n",
            "49                                 Armenia\n",
            "736                               Honduras\n",
            "601                                 France\n",
            "847                                 Israel\n",
            "703                              Guatemala\n",
            "1066                              Malaysia\n",
            "1291                                  Oman\n",
            "1612                           Switzerland\n",
            "151                                Belarus\n",
            "286                                  Chile\n",
            "586                                Finland\n",
            "982                                 Latvia\n",
            "112                                Bahrain\n",
            "1642                            Tajikistan\n",
            "1696                                Turkey\n",
            "1489                    Russian Federation\n",
            "754                                Hungary\n",
            "379                             Costa Rica\n",
            "1                                  Albania\n",
            "Name: Area, dtype: object\n"
          ],
          "name": "stdout"
        }
      ]
    },
    {
      "cell_type": "code",
      "metadata": {
        "colab": {
          "base_uri": "https://localhost:8080/",
          "height": 284
        },
        "id": "rI_SR6TtxPBk",
        "outputId": "15019b31-9cf4-4548-8f5c-b74aa57b59ef"
      },
      "source": [
        "#Lettuce and chicory             240\r\n",
        "df_lettuce_yield = df_cleaned_yield[df_cleaned_yield['Item'] == 'Lettuce and chicory']\r\n",
        "sns.boxplot(y=\"Mean value\", width=0.15, data=df_lettuce_yield)   \r\n",
        "\r\n",
        "plt.title('Lettuce yield in countries')"
      ],
      "execution_count": null,
      "outputs": [
        {
          "output_type": "execute_result",
          "data": {
            "text/plain": [
              "Text(0.5, 1.0, 'Lettuce yield in countries')"
            ]
          },
          "metadata": {
            "tags": []
          },
          "execution_count": 59
        },
        {
          "output_type": "display_data",
          "data": {
            "image/png": "[encoded data removed]",
            "text/plain": [
              "<Figure size 432x288 with 1 Axes>"
            ]
          },
          "metadata": {
            "tags": [],
            "needs_background": "light"
          }
        }
      ]
    },
    {
      "cell_type": "code",
      "metadata": {
        "colab": {
          "base_uri": "https://localhost:8080/",
          "height": 437
        },
        "id": "HK_Z2ssARDYJ",
        "outputId": "320993a1-31b2-403a-f1c6-23697dcb0b47"
      },
      "source": [
        "df_lettuce_yield.sort_values('Mean value', ascending=False, inplace=True)\r\n",
        "\r\n",
        "df_lettuce_yield_top50 = df_lettuce_yield[:50]\r\n",
        "df_lettuce_yield_top50 \r\n",
        "\r\n",
        "fig = plt.figure()\r\n",
        "ax = fig.add_axes([0,0,1,1])\r\n",
        "ax.bar(df_lettuce_yield_top50['Area'], df_lettuce_yield_top50['Mean value'])\r\n",
        "plt.title('Lettuce yield in top 50 countries')\r\n",
        "plt.show()"
      ],
      "execution_count": null,
      "outputs": [
        {
          "output_type": "stream",
          "text": [
            "/usr/local/lib/python3.7/dist-packages/ipykernel_launcher.py:1: SettingWithCopyWarning: \n",
            "A value is trying to be set on a copy of a slice from a DataFrame\n",
            "\n",
            "See the caveats in the documentation: https://pandas.pydata.org/pandas-docs/stable/user_guide/indexing.html#returning-a-view-versus-a-copy\n",
            "  \"\"\"Entry point for launching an IPython kernel.\n"
          ],
          "name": "stderr"
        },
        {
          "output_type": "display_data",
          "data": {
            "image/png": "[encoded data removed]",
            "text/plain": [
              "<Figure size 432x288 with 1 Axes>"
            ]
          },
          "metadata": {
            "tags": [],
            "needs_background": "light"
          }
        }
      ]
    },
    {
      "cell_type": "code",
      "metadata": {
        "colab": {
          "base_uri": "https://localhost:8080/"
        },
        "id": "-H2ngOpdyDEw",
        "outputId": "1c28a8c9-af3b-4871-e624-23edd6179c84"
      },
      "source": [
        "print(df_lettuce_yield_top50['Area'])"
      ],
      "execution_count": null,
      "outputs": [
        {
          "output_type": "stream",
          "text": [
            "958                                                Kuwait\n",
            "1792                             United States of America\n",
            "1195                                          Netherlands\n",
            "448                      Democratic Republic of the Congo\n",
            "82                                                Austria\n",
            "802                            Iran (Islamic Republic of)\n",
            "1279                                               Norway\n",
            "757                                               Hungary\n",
            "706                                             Guatemala\n",
            "1573                                                Spain\n",
            "913                                                Jordan\n",
            "1210                                          New Zealand\n",
            "604                                                France\n",
            "835                                               Ireland\n",
            "1435                                    Republic of Korea\n",
            "421                                                Cyprus\n",
            "895                                                 Japan\n",
            "850                                                Israel\n",
            "466                                               Denmark\n",
            "1762    United Kingdom of Great Britain and Northern I...\n",
            "529                                                 Egypt\n",
            "322                                       China, mainland\n",
            "304                                                 China\n",
            "115                                               Bahrain\n",
            "274                                                Canada\n",
            "997                                               Lebanon\n",
            "1750                                 United Arab Emirates\n",
            "1399                                             Portugal\n",
            "1600                                               Sweden\n",
            "652                                               Germany\n",
            "1684                                              Tunisia\n",
            "64                                              Australia\n",
            "229                                              Bulgaria\n",
            "1108                                           Martinique\n",
            "1135                                               Mexico\n",
            "1630                                 Syrian Arab Republic\n",
            "1153                                              Morocco\n",
            "1615                                          Switzerland\n",
            "865                                                 Italy\n",
            "1840                   Venezuela (Bolivarian Republic of)\n",
            "589                                               Finland\n",
            "1699                                               Turkey\n",
            "355                                              Colombia\n",
            "1324                                               Panama\n",
            "667                                                Greece\n",
            "820                                                  Iraq\n",
            "1540                                             Slovenia\n",
            "694                                            Guadeloupe\n",
            "1555                                         South Africa\n",
            "394                                               Croatia\n",
            "Name: Area, dtype: object\n"
          ],
          "name": "stdout"
        }
      ]
    },
    {
      "cell_type": "code",
      "metadata": {
        "colab": {
          "base_uri": "https://localhost:8080/",
          "height": 284
        },
        "id": "dwEGprwBxm0h",
        "outputId": "cdd19cd6-49be-419d-ee40-064fbe49e1e5"
      },
      "source": [
        "# Sugar cane\r\n",
        "df_sugarcane_yield = df_cleaned_yield[df_cleaned_yield['Item'] == 'Sugar cane']\r\n",
        "sns.boxplot(y=\"Mean value\", width=0.15, data=df_sugarcane_yield)   \r\n",
        "\r\n",
        "plt.title('Sugar canse yield in countries')"
      ],
      "execution_count": null,
      "outputs": [
        {
          "output_type": "execute_result",
          "data": {
            "text/plain": [
              "Text(0.5, 1.0, 'Sugar canse yield in countries')"
            ]
          },
          "metadata": {
            "tags": []
          },
          "execution_count": 60
        },
        {
          "output_type": "display_data",
          "data": {
            "image/png": "[encoded data removed]",
            "text/plain": [
              "<Figure size 432x288 with 1 Axes>"
            ]
          },
          "metadata": {
            "tags": [],
            "needs_background": "light"
          }
        }
      ]
    },
    {
      "cell_type": "code",
      "metadata": {
        "colab": {
          "base_uri": "https://localhost:8080/",
          "height": 437
        },
        "id": "YhT32dqOROEO",
        "outputId": "5d3f240e-b4f5-417c-8782-9f61bcc65037"
      },
      "source": [
        "df_sugarcane_yield.sort_values('Mean value', ascending=False, inplace=True)\r\n",
        "\r\n",
        "df_sugarcane_yield_top50 = df_sugarcane_yield[:50]\r\n",
        "df_sugarcane_yield_top50 \r\n",
        "\r\n",
        "fig = plt.figure()\r\n",
        "ax = fig.add_axes([0,0,1,1])\r\n",
        "ax.bar(df_sugarcane_yield_top50['Area'], df_sugarcane_yield_top50['Mean value'])\r\n",
        "plt.title('Sugar cane yield in top 50 countries')\r\n",
        "plt.show()"
      ],
      "execution_count": null,
      "outputs": [
        {
          "output_type": "stream",
          "text": [
            "/usr/local/lib/python3.7/dist-packages/ipykernel_launcher.py:1: SettingWithCopyWarning: \n",
            "A value is trying to be set on a copy of a slice from a DataFrame\n",
            "\n",
            "See the caveats in the documentation: https://pandas.pydata.org/pandas-docs/stable/user_guide/indexing.html#returning-a-view-versus-a-copy\n",
            "  \"\"\"Entry point for launching an IPython kernel.\n"
          ],
          "name": "stderr"
        },
        {
          "output_type": "display_data",
          "data": {
            "image/png": "[encoded data removed]",
            "text/plain": [
              "<Figure size 432x288 with 1 Axes>"
            ]
          },
          "metadata": {
            "tags": [],
            "needs_background": "light"
          }
        }
      ]
    },
    {
      "cell_type": "code",
      "metadata": {
        "colab": {
          "base_uri": "https://localhost:8080/"
        },
        "id": "YNIWuN04yPAu",
        "outputId": "bf67969f-a679-4af5-9c92-aff6a8b91176"
      },
      "source": [
        "print(df_sugarcane_yield_top50['Area'])"
      ],
      "execution_count": null,
      "outputs": [
        {
          "output_type": "stream",
          "text": [
            "1357                                  Peru\n",
            "535                                  Egypt\n",
            "1531                               Senegal\n",
            "1057                                Malawi\n",
            "1873                                Zambia\n",
            "712                              Guatemala\n",
            "571                               Eswatini\n",
            "361                               Colombia\n",
            "1891                              Zimbabwe\n",
            "70                               Australia\n",
            "1405                              Portugal\n",
            "1228                             Nicaragua\n",
            "550                            El Salvador\n",
            "946                                  Kenya\n",
            "745                               Honduras\n",
            "1780           United Republic of Tanzania\n",
            "808             Iran (Islamic Republic of)\n",
            "1798              United States of America\n",
            "385                             Costa Rica\n",
            "631                       French Polynesia\n",
            "343              China, Taiwan Province of\n",
            "1141                                Mexico\n",
            "1468                              RÃ©union\n",
            "1126                             Mauritius\n",
            "217                                 Brazil\n",
            "517                                Ecuador\n",
            "1084                                  Mali\n",
            "1726                                Uganda\n",
            "778                                  India\n",
            "310                                  China\n",
            "793                              Indonesia\n",
            "328                        China, mainland\n",
            "1846    Venezuela (Bolivarian Republic of)\n",
            "1561                          South Africa\n",
            "40                               Argentina\n",
            "616                          French Guyana\n",
            "1159                               Morocco\n",
            "1663                              Thailand\n",
            "901                                  Japan\n",
            "1375                           Philippines\n",
            "1111                            Martinique\n",
            "697                             Guadeloupe\n",
            "1330                                Panama\n",
            "886                                Jamaica\n",
            "730                                  Haiti\n",
            "1813                               Uruguay\n",
            "1591                             Sri Lanka\n",
            "145                               Barbados\n",
            "1312                              Pakistan\n",
            "1339                              Paraguay\n",
            "Name: Area, dtype: object\n"
          ],
          "name": "stdout"
        }
      ]
    },
    {
      "cell_type": "code",
      "metadata": {
        "colab": {
          "base_uri": "https://localhost:8080/",
          "height": 312
        },
        "id": "Hh_JTWqeUS68",
        "outputId": "d310872a-d748-4fc0-9d6f-491244fca276"
      },
      "source": [
        "\r\n",
        "\r\n",
        "#fig = plt.figure(figsize =(10, 7)) \r\n",
        "  \r\n",
        "# Creating plot \r\n",
        "#plt.boxplot(data) \r\n",
        "  \r\n",
        "# show plot \r\n",
        "#plt.show() \r\n",
        "\r\n",
        "\r\n",
        "\r\n",
        "\r\n",
        "#sns.boxplot(x=\"body-style\", y=\"price\", width=0.3, data=df)\r\n",
        "sns.boxplot(x=\"Item\", y=\"Mean value\", width=0.3, data=df_cleaned_yield)\r\n",
        "\r\n",
        "\r\n",
        "plt.title('Yield for different crop in countries')"
      ],
      "execution_count": null,
      "outputs": [
        {
          "output_type": "execute_result",
          "data": {
            "text/plain": [
              "Text(0.5, 1.0, 'Yield for different crop in countries')"
            ]
          },
          "metadata": {
            "tags": []
          },
          "execution_count": 61
        },
        {
          "output_type": "display_data",
          "data": {
            "image/png": "[encoded data removed]",
            "text/plain": [
              "<Figure size 432x288 with 1 Axes>"
            ]
          },
          "metadata": {
            "tags": [],
            "needs_background": "light"
          }
        }
      ]
    },
    {
      "cell_type": "code",
      "metadata": {
        "colab": {
          "base_uri": "https://localhost:8080/",
          "height": 312
        },
        "id": "rli1j5zngQEx",
        "outputId": "53a45076-6fd3-42e9-894b-a53b93df61d0"
      },
      "source": [
        "sns.boxplot(x=\"Area Code\", y=\"Mean value\", width=0.8, data=df_cleaned_yield)\r\n",
        "\r\n",
        "plt.title('Yield in different countries')"
      ],
      "execution_count": null,
      "outputs": [
        {
          "output_type": "execute_result",
          "data": {
            "text/plain": [
              "Text(0.5, 1.0, 'Yield in different countries')"
            ]
          },
          "metadata": {
            "tags": []
          },
          "execution_count": 62
        },
        {
          "output_type": "display_data",
          "data": {
            "image/png": "[encoded data removed]",
            "text/plain": [
              "<Figure size 432x288 with 1 Axes>"
            ]
          },
          "metadata": {
            "tags": [],
            "needs_background": "light"
          }
        }
      ]
    },
    {
      "cell_type": "code",
      "metadata": {
        "id": "isVygNfehMBB"
      },
      "source": [
        "#4. Will having a larger area harvested contribute to an increase in the yield? (Causal) \r\n",
        "#- find the mean of area harvested and yield of all countries\r\n",
        "#- 2d graph (plot a graph of area harvested against yield based on all countries)\r\n",
        "#- maybe correlation graph, scatter plot for further explanation#"
      ],
      "execution_count": null,
      "outputs": []
    },
    {
      "cell_type": "code",
      "metadata": {
        "id": "RE4cJRK7ijDu"
      },
      "source": [
        "#>>> n_by_state = df.groupby(\"state\")[\"last_name\"].count()\r\n",
        "#>>> n_by_state.head(10)\r\n",
        "\r\n",
        "n_test = df_cleaned.groupby(\"Area\")[\"Mean value\"].mean()"
      ],
      "execution_count": null,
      "outputs": []
    },
    {
      "cell_type": "code",
      "metadata": {
        "colab": {
          "base_uri": "https://localhost:8080/",
          "height": 435
        },
        "id": "QefNLl4AkJhK",
        "outputId": "c9b37beb-7055-4b1e-e823-bceee933da00"
      },
      "source": [
        "a_test = df_cleaned_yield.groupby(\"Area\")[\"Mean value\"].mean()\r\n",
        "a_test\r\n",
        "pd_yield_country = pd.DataFrame(a_test)\r\n",
        "pd_yield_country.columns = ['Yield']\r\n",
        "pd_yield_country "
      ],
      "execution_count": null,
      "outputs": [
        {
          "output_type": "execute_result",
          "data": {
            "text/html": [
              "<div>\n",
              "<style scoped>\n",
              "    .dataframe tbody tr th:only-of-type {\n",
              "        vertical-align: middle;\n",
              "    }\n",
              "\n",
              "    .dataframe tbody tr th {\n",
              "        vertical-align: top;\n",
              "    }\n",
              "\n",
              "    .dataframe thead th {\n",
              "        text-align: right;\n",
              "    }\n",
              "</style>\n",
              "<table border=\"1\" class=\"dataframe\">\n",
              "  <thead>\n",
              "    <tr style=\"text-align: right;\">\n",
              "      <th></th>\n",
              "      <th>Yield</th>\n",
              "    </tr>\n",
              "    <tr>\n",
              "      <th>Area</th>\n",
              "      <th></th>\n",
              "    </tr>\n",
              "  </thead>\n",
              "  <tbody>\n",
              "    <tr>\n",
              "      <th>Albania</th>\n",
              "      <td>191241.453704</td>\n",
              "    </tr>\n",
              "    <tr>\n",
              "      <th>Algeria</th>\n",
              "      <td>168106.435185</td>\n",
              "    </tr>\n",
              "    <tr>\n",
              "      <th>Angola</th>\n",
              "      <td>120354.009259</td>\n",
              "    </tr>\n",
              "    <tr>\n",
              "      <th>Argentina</th>\n",
              "      <td>326909.129630</td>\n",
              "    </tr>\n",
              "    <tr>\n",
              "      <th>Armenia</th>\n",
              "      <td>209668.009259</td>\n",
              "    </tr>\n",
              "    <tr>\n",
              "      <th>...</th>\n",
              "      <td>...</td>\n",
              "    </tr>\n",
              "    <tr>\n",
              "      <th>Uzbekistan</th>\n",
              "      <td>208606.133333</td>\n",
              "    </tr>\n",
              "    <tr>\n",
              "      <th>Venezuela (Bolivarian Republic of)</th>\n",
              "      <td>266006.222222</td>\n",
              "    </tr>\n",
              "    <tr>\n",
              "      <th>Yemen</th>\n",
              "      <td>97215.777778</td>\n",
              "    </tr>\n",
              "    <tr>\n",
              "      <th>Zambia</th>\n",
              "      <td>333844.666667</td>\n",
              "    </tr>\n",
              "    <tr>\n",
              "      <th>Zimbabwe</th>\n",
              "      <td>221980.209877</td>\n",
              "    </tr>\n",
              "  </tbody>\n",
              "</table>\n",
              "<p>137 rows × 1 columns</p>\n",
              "</div>"
            ],
            "text/plain": [
              "                                            Yield\n",
              "Area                                             \n",
              "Albania                             191241.453704\n",
              "Algeria                             168106.435185\n",
              "Angola                              120354.009259\n",
              "Argentina                           326909.129630\n",
              "Armenia                             209668.009259\n",
              "...                                           ...\n",
              "Uzbekistan                          208606.133333\n",
              "Venezuela (Bolivarian Republic of)  266006.222222\n",
              "Yemen                                97215.777778\n",
              "Zambia                              333844.666667\n",
              "Zimbabwe                            221980.209877\n",
              "\n",
              "[137 rows x 1 columns]"
            ]
          },
          "metadata": {
            "tags": []
          },
          "execution_count": 34
        }
      ]
    },
    {
      "cell_type": "code",
      "metadata": {
        "id": "YSy6Ub_vlHXa"
      },
      "source": [
        "df_cleaned_area = df_cleaned[df_cleaned['Element'] == 'Area harvested']\r\n",
        "\r\n",
        "b_test = df_cleaned_area.groupby(\"Area\")[\"Mean value\"].mean()\r\n",
        "b_test\r\n",
        "pd_area_country = pd.DataFrame(b_test)"
      ],
      "execution_count": null,
      "outputs": []
    },
    {
      "cell_type": "code",
      "metadata": {
        "colab": {
          "base_uri": "https://localhost:8080/",
          "height": 435
        },
        "id": "6NBduoSqlXl_",
        "outputId": "1e4a10a7-0070-4c75-92f5-a1bdc3acfe33"
      },
      "source": [
        "\r\n",
        "pd_area_country.columns =['Area harvested'] \r\n",
        "pd_area_country"
      ],
      "execution_count": null,
      "outputs": [
        {
          "output_type": "execute_result",
          "data": {
            "text/html": [
              "<div>\n",
              "<style scoped>\n",
              "    .dataframe tbody tr th:only-of-type {\n",
              "        vertical-align: middle;\n",
              "    }\n",
              "\n",
              "    .dataframe tbody tr th {\n",
              "        vertical-align: top;\n",
              "    }\n",
              "\n",
              "    .dataframe thead th {\n",
              "        text-align: right;\n",
              "    }\n",
              "</style>\n",
              "<table border=\"1\" class=\"dataframe\">\n",
              "  <thead>\n",
              "    <tr style=\"text-align: right;\">\n",
              "      <th></th>\n",
              "      <th>Area harvested</th>\n",
              "    </tr>\n",
              "    <tr>\n",
              "      <th>Area</th>\n",
              "      <th></th>\n",
              "    </tr>\n",
              "  </thead>\n",
              "  <tbody>\n",
              "    <tr>\n",
              "      <th>Albania</th>\n",
              "      <td>2.832894e+04</td>\n",
              "    </tr>\n",
              "    <tr>\n",
              "      <th>Algeria</th>\n",
              "      <td>4.575821e+05</td>\n",
              "    </tr>\n",
              "    <tr>\n",
              "      <th>Angola</th>\n",
              "      <td>2.052630e+04</td>\n",
              "    </tr>\n",
              "    <tr>\n",
              "      <th>Argentina</th>\n",
              "      <td>1.400602e+06</td>\n",
              "    </tr>\n",
              "    <tr>\n",
              "      <th>Armenia</th>\n",
              "      <td>3.481215e+04</td>\n",
              "    </tr>\n",
              "    <tr>\n",
              "      <th>...</th>\n",
              "      <td>...</td>\n",
              "    </tr>\n",
              "    <tr>\n",
              "      <th>Uzbekistan</th>\n",
              "      <td>2.882061e+05</td>\n",
              "    </tr>\n",
              "    <tr>\n",
              "      <th>Venezuela (Bolivarian Republic of)</th>\n",
              "      <td>2.450309e+04</td>\n",
              "    </tr>\n",
              "    <tr>\n",
              "      <th>Yemen</th>\n",
              "      <td>2.690749e+04</td>\n",
              "    </tr>\n",
              "    <tr>\n",
              "      <th>Zambia</th>\n",
              "      <td>1.220490e+04</td>\n",
              "    </tr>\n",
              "    <tr>\n",
              "      <th>Zimbabwe</th>\n",
              "      <td>1.298827e+04</td>\n",
              "    </tr>\n",
              "  </tbody>\n",
              "</table>\n",
              "<p>137 rows × 1 columns</p>\n",
              "</div>"
            ],
            "text/plain": [
              "                                    Area harvested\n",
              "Area                                              \n",
              "Albania                               2.832894e+04\n",
              "Algeria                               4.575821e+05\n",
              "Angola                                2.052630e+04\n",
              "Argentina                             1.400602e+06\n",
              "Armenia                               3.481215e+04\n",
              "...                                            ...\n",
              "Uzbekistan                            2.882061e+05\n",
              "Venezuela (Bolivarian Republic of)    2.450309e+04\n",
              "Yemen                                 2.690749e+04\n",
              "Zambia                                1.220490e+04\n",
              "Zimbabwe                              1.298827e+04\n",
              "\n",
              "[137 rows x 1 columns]"
            ]
          },
          "metadata": {
            "tags": []
          },
          "execution_count": 38
        }
      ]
    },
    {
      "cell_type": "code",
      "metadata": {
        "colab": {
          "base_uri": "https://localhost:8080/",
          "height": 568
        },
        "id": "36fwFL3mnyS9",
        "outputId": "aa1df364-f404-48fd-ac58-f7f2d4734f74"
      },
      "source": [
        "#pd_yield_country['Area harvested'] = pd_area_country['Area harvested'].values\r\n",
        "pd_yield_and_area = pd_yield_country\r\n",
        "#pd_yield_and_area['Yield'] = pd_yield_country['Yield'].values\r\n",
        "pd_yield_and_area['Area harvested'] = pd_area_country['Area harvested'].values\r\n",
        "\r\n",
        "print(pd_yield_and_area)\r\n",
        "\r\n",
        "sns.regplot(x=\"Area harvested\", y=\"Yield\", data=pd_yield_and_area).set_title(\"Yield vs Area Harvested for all countries\")\r\n",
        "plt.ylim(0,)\r\n"
      ],
      "execution_count": null,
      "outputs": [
        {
          "output_type": "stream",
          "text": [
            "                                            Yield  Area harvested\n",
            "Area                                                             \n",
            "Albania                             191241.453704    2.832894e+04\n",
            "Algeria                             168106.435185    4.575821e+05\n",
            "Angola                              120354.009259    2.052630e+04\n",
            "Argentina                           326909.129630    1.400602e+06\n",
            "Armenia                             209668.009259    3.481215e+04\n",
            "...                                           ...             ...\n",
            "Uzbekistan                          208606.133333    2.882061e+05\n",
            "Venezuela (Bolivarian Republic of)  266006.222222    2.450309e+04\n",
            "Yemen                                97215.777778    2.690749e+04\n",
            "Zambia                              333844.666667    1.220490e+04\n",
            "Zimbabwe                            221980.209877    1.298827e+04\n",
            "\n",
            "[137 rows x 2 columns]\n"
          ],
          "name": "stdout"
        },
        {
          "output_type": "execute_result",
          "data": {
            "text/plain": [
              "(0.0, 1246196.865185185)"
            ]
          },
          "metadata": {
            "tags": []
          },
          "execution_count": 66
        },
        {
          "output_type": "display_data",
          "data": {
            "image/png": "[encoded data removed]",
            "text/plain": [
              "<Figure size 432x288 with 1 Axes>"
            ]
          },
          "metadata": {
            "tags": [],
            "needs_background": "light"
          }
        }
      ]
    },
    {
      "cell_type": "code",
      "metadata": {
        "colab": {
          "base_uri": "https://localhost:8080/",
          "height": 107
        },
        "id": "-ADcTte1SbC5",
        "outputId": "f159a902-8309-4978-c62d-6a61fe2d8290"
      },
      "source": [
        "#df_esp = df[[\"engine-size\", \"price\"]]\r\n",
        "# df_esp.corr()\r\n",
        "df_esp = pd_yield_and_area[['Yield', 'Area harvested']]\r\n",
        "df_esp.corr()"
      ],
      "execution_count": null,
      "outputs": [
        {
          "output_type": "execute_result",
          "data": {
            "text/html": [
              "<div>\n",
              "<style scoped>\n",
              "    .dataframe tbody tr th:only-of-type {\n",
              "        vertical-align: middle;\n",
              "    }\n",
              "\n",
              "    .dataframe tbody tr th {\n",
              "        vertical-align: top;\n",
              "    }\n",
              "\n",
              "    .dataframe thead th {\n",
              "        text-align: right;\n",
              "    }\n",
              "</style>\n",
              "<table border=\"1\" class=\"dataframe\">\n",
              "  <thead>\n",
              "    <tr style=\"text-align: right;\">\n",
              "      <th></th>\n",
              "      <th>Yield</th>\n",
              "      <th>Area harvested</th>\n",
              "    </tr>\n",
              "  </thead>\n",
              "  <tbody>\n",
              "    <tr>\n",
              "      <th>Yield</th>\n",
              "      <td>1.000000</td>\n",
              "      <td>-0.016771</td>\n",
              "    </tr>\n",
              "    <tr>\n",
              "      <th>Area harvested</th>\n",
              "      <td>-0.016771</td>\n",
              "      <td>1.000000</td>\n",
              "    </tr>\n",
              "  </tbody>\n",
              "</table>\n",
              "</div>"
            ],
            "text/plain": [
              "                   Yield  Area harvested\n",
              "Yield           1.000000       -0.016771\n",
              "Area harvested -0.016771        1.000000"
            ]
          },
          "metadata": {
            "tags": []
          },
          "execution_count": 40
        }
      ]
    },
    {
      "cell_type": "code",
      "metadata": {
        "colab": {
          "base_uri": "https://localhost:8080/",
          "height": 397
        },
        "id": "e9la1cy1P5LF",
        "outputId": "6714f608-1bfa-46c4-b63b-c4cbc82be5e5"
      },
      "source": [
        "# pd_yield_and_area = pd_yield_country\r\n",
        "#pd_yield_and_area['Yield'] = pd_yield_country['Yield'].values\r\n",
        "# pd_yield_and_area['Area harvested'] = pd_area_country['Area harvested'].values\r\n",
        "\r\n",
        "# For potato\r\n",
        "# df_potato_yield = df_cleaned_yield[df_cleaned_yield['Item'] == 'Potatoes']\r\n",
        "df_potato_area = df_cleaned_area[df_cleaned_area['Item'] == 'Potatoes']\r\n",
        "\r\n",
        "df_potato_yield_and_area = df_potato_yield[['Area', 'Mean value']]\r\n",
        "df_potato_yield_and_area.columns = ['Area', 'Yield']\r\n",
        "\r\n",
        "df_potato_yield_and_area\r\n",
        "\r\n",
        "df_potato_area_only = df_potato_area[['Area', 'Mean value']]\r\n",
        "df_potato_area_only.columns = ['Area', 'Area harvested']\r\n",
        "df_potato_area_only\r\n",
        "\r\n",
        "\r\n",
        "df_potato_yield_and_area['Area harvested'] = df_potato_area_only['Area harvested'].values\r\n",
        "\r\n",
        "\r\n",
        "df_potato_yield_and_area\r\n",
        "# df_only_potato_yield_top50 = df_potato_yield_top50[['Area', 'Mean value']]\r\n",
        "\r\n",
        "\r\n",
        "sns.regplot(x=\"Area harvested\", y=\"Yield\", data= df_potato_yield_and_area).set_title(\"Yield vs Area Harvested for potatoes\")\r\n",
        "plt.ylim(0,)"
      ],
      "execution_count": null,
      "outputs": [
        {
          "output_type": "stream",
          "text": [
            "/usr/local/lib/python3.7/dist-packages/ipykernel_launcher.py:19: SettingWithCopyWarning: \n",
            "A value is trying to be set on a copy of a slice from a DataFrame.\n",
            "Try using .loc[row_indexer,col_indexer] = value instead\n",
            "\n",
            "See the caveats in the documentation: https://pandas.pydata.org/pandas-docs/stable/user_guide/indexing.html#returning-a-view-versus-a-copy\n"
          ],
          "name": "stderr"
        },
        {
          "output_type": "execute_result",
          "data": {
            "text/plain": [
              "(0.0, 477866.02037037036)"
            ]
          },
          "metadata": {
            "tags": []
          },
          "execution_count": 67
        },
        {
          "output_type": "display_data",
          "data": {
            "image/png": "[encoded data removed]",
            "text/plain": [
              "<Figure size 432x288 with 1 Axes>"
            ]
          },
          "metadata": {
            "tags": [],
            "needs_background": "light"
          }
        }
      ]
    },
    {
      "cell_type": "code",
      "metadata": {
        "colab": {
          "base_uri": "https://localhost:8080/",
          "height": 107
        },
        "id": "9nj69JcphY1q",
        "outputId": "766f5cc8-f756-401a-8f00-d365df7e0298"
      },
      "source": [
        "df_esp_potato = df_potato_yield_and_area[['Yield', 'Area harvested']]\r\n",
        "df_esp_potato.corr()"
      ],
      "execution_count": null,
      "outputs": [
        {
          "output_type": "execute_result",
          "data": {
            "text/html": [
              "<div>\n",
              "<style scoped>\n",
              "    .dataframe tbody tr th:only-of-type {\n",
              "        vertical-align: middle;\n",
              "    }\n",
              "\n",
              "    .dataframe tbody tr th {\n",
              "        vertical-align: top;\n",
              "    }\n",
              "\n",
              "    .dataframe thead th {\n",
              "        text-align: right;\n",
              "    }\n",
              "</style>\n",
              "<table border=\"1\" class=\"dataframe\">\n",
              "  <thead>\n",
              "    <tr style=\"text-align: right;\">\n",
              "      <th></th>\n",
              "      <th>Yield</th>\n",
              "      <th>Area harvested</th>\n",
              "    </tr>\n",
              "  </thead>\n",
              "  <tbody>\n",
              "    <tr>\n",
              "      <th>Yield</th>\n",
              "      <td>1.00000</td>\n",
              "      <td>-0.05311</td>\n",
              "    </tr>\n",
              "    <tr>\n",
              "      <th>Area harvested</th>\n",
              "      <td>-0.05311</td>\n",
              "      <td>1.00000</td>\n",
              "    </tr>\n",
              "  </tbody>\n",
              "</table>\n",
              "</div>"
            ],
            "text/plain": [
              "                  Yield  Area harvested\n",
              "Yield           1.00000        -0.05311\n",
              "Area harvested -0.05311         1.00000"
            ]
          },
          "metadata": {
            "tags": []
          },
          "execution_count": 65
        }
      ]
    },
    {
      "cell_type": "code",
      "metadata": {
        "colab": {
          "base_uri": "https://localhost:8080/",
          "height": 414
        },
        "id": "HPuUk9uErMR2",
        "outputId": "472d85d7-d2a1-45e5-8339-de88e5be107e"
      },
      "source": [
        "df_wheat_area = df_cleaned_area[df_cleaned_area['Item'] == 'Wheat']\r\n",
        "\r\n",
        "\r\n",
        "# Get area\r\n",
        "df_wheat_area_only = df_wheat_area[['Area', 'Mean value']]\r\n",
        "df_wheat_area_only.columns = ['Area', 'Area harvested']\r\n",
        "\r\n",
        "# Get yield\r\n",
        "df_wheat_yield_only = df_wheat_yield[['Area', 'Mean value']]\r\n",
        "df_wheat_yield_only.columns = ['Area', 'Yield']\r\n",
        "\r\n",
        "# combine\r\n",
        "df_wheat_yield_and_area = df_wheat_yield_only\r\n",
        "df_wheat_yield_and_area['Area harvested'] = df_wheat_area_only['Area harvested'].values\r\n",
        "\r\n",
        "# df_wheat_yield_and_area\r\n",
        "\r\n",
        "sns.regplot(x=\"Area harvested\", y=\"Yield\", data= df_wheat_yield_and_area).set_title(\"Yield vs Area Harvested for Wheat\")"
      ],
      "execution_count": null,
      "outputs": [
        {
          "output_type": "stream",
          "text": [
            "/usr/local/lib/python3.7/dist-packages/ipykernel_launcher.py:14: SettingWithCopyWarning: \n",
            "A value is trying to be set on a copy of a slice from a DataFrame.\n",
            "Try using .loc[row_indexer,col_indexer] = value instead\n",
            "\n",
            "See the caveats in the documentation: https://pandas.pydata.org/pandas-docs/stable/user_guide/indexing.html#returning-a-view-versus-a-copy\n",
            "  \n"
          ],
          "name": "stderr"
        },
        {
          "output_type": "execute_result",
          "data": {
            "text/plain": [
              "Text(0.5, 1.0, 'Yield vs Area Harvested for Wheat')"
            ]
          },
          "metadata": {
            "tags": []
          },
          "execution_count": 71
        },
        {
          "output_type": "display_data",
          "data": {
            "image/png": "[encoded data removed]",
            "text/plain": [
              "<Figure size 432x288 with 1 Axes>"
            ]
          },
          "metadata": {
            "tags": [],
            "needs_background": "light"
          }
        }
      ]
    },
    {
      "cell_type": "code",
      "metadata": {
        "colab": {
          "base_uri": "https://localhost:8080/",
          "height": 107
        },
        "id": "4OYsYLndimlj",
        "outputId": "1a5d36a0-3243-4710-b00c-beaf96b89d20"
      },
      "source": [
        "df_esp_wheat_ = df_wheat_yield_and_area[['Yield', 'Area harvested']]\r\n",
        "df_esp_wheat_.corr()"
      ],
      "execution_count": null,
      "outputs": [
        {
          "output_type": "execute_result",
          "data": {
            "text/html": [
              "<div>\n",
              "<style scoped>\n",
              "    .dataframe tbody tr th:only-of-type {\n",
              "        vertical-align: middle;\n",
              "    }\n",
              "\n",
              "    .dataframe tbody tr th {\n",
              "        vertical-align: top;\n",
              "    }\n",
              "\n",
              "    .dataframe thead th {\n",
              "        text-align: right;\n",
              "    }\n",
              "</style>\n",
              "<table border=\"1\" class=\"dataframe\">\n",
              "  <thead>\n",
              "    <tr style=\"text-align: right;\">\n",
              "      <th></th>\n",
              "      <th>Yield</th>\n",
              "      <th>Area harvested</th>\n",
              "    </tr>\n",
              "  </thead>\n",
              "  <tbody>\n",
              "    <tr>\n",
              "      <th>Yield</th>\n",
              "      <td>1.000000</td>\n",
              "      <td>0.013348</td>\n",
              "    </tr>\n",
              "    <tr>\n",
              "      <th>Area harvested</th>\n",
              "      <td>0.013348</td>\n",
              "      <td>1.000000</td>\n",
              "    </tr>\n",
              "  </tbody>\n",
              "</table>\n",
              "</div>"
            ],
            "text/plain": [
              "                   Yield  Area harvested\n",
              "Yield           1.000000        0.013348\n",
              "Area harvested  0.013348        1.000000"
            ]
          },
          "metadata": {
            "tags": []
          },
          "execution_count": 70
        }
      ]
    }
  ]
}